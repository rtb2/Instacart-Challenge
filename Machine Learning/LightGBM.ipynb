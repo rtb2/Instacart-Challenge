{
  "cells": [
    {
      "metadata": {
        "trusted": true,
        "_uuid": "33926a915414a09767cebe902d3c39eea48b4007"
      },
      "cell_type": "code",
      "source": "#importing required libraries\nimport pandas as pd\nimport numpy as np\nimport glob\nfrom scipy import stats\nimport matplotlib.pyplot as plt\nimport lightgbm as lgb",
      "execution_count": 1,
      "outputs": []
    },
    {
      "metadata": {
        "trusted": true,
        "_uuid": "da8f4b65588fac3653b0a3736275cd7e87ee690f"
      },
      "cell_type": "code",
      "source": "import os\nos.chdir(\"/kaggle/input\")",
      "execution_count": 2,
      "outputs": []
    },
    {
      "metadata": {
        "trusted": true,
        "_uuid": "ee1e691688a6b017c0b8af05de738342f73368f8"
      },
      "cell_type": "code",
      "source": "os.listdir()",
      "execution_count": 5,
      "outputs": [
        {
          "output_type": "execute_result",
          "execution_count": 5,
          "data": {
            "text/plain": "['df_train (1)']"
          },
          "metadata": {}
        }
      ]
    },
    {
      "metadata": {
        "trusted": true,
        "_uuid": "b38e6a8a42ebf646dbac2aa1198ddb69b7accacb"
      },
      "cell_type": "code",
      "source": "#Created datasets\ndf_train = pd.read_pickle('df_train (1)')",
      "execution_count": 6,
      "outputs": []
    },
    {
      "metadata": {
        "trusted": true,
        "_uuid": "8f4f305478b5ea7446189a3cf2aad2943944552a"
      },
      "cell_type": "code",
      "source": "fet = df_train.columns[df_train.columns.str.contains('order_dow')]\nfet2 = df_train.columns[df_train.columns.str.contains('order_hour')]",
      "execution_count": 7,
      "outputs": []
    },
    {
      "metadata": {
        "trusted": true,
        "_uuid": "d3b65d75fc09a1beb3dca78287fe941ce6a3d2d6"
      },
      "cell_type": "code",
      "source": "fet = fet2.append(fet)",
      "execution_count": 8,
      "outputs": []
    },
    {
      "metadata": {
        "trusted": true,
        "_uuid": "452088b1a8341c3d39541cee3b6a9a6858c4fbe5"
      },
      "cell_type": "code",
      "source": "for column in fet:\n    df_train[column] = df_train[column].astype(np.uint8)",
      "execution_count": 9,
      "outputs": []
    },
    {
      "metadata": {
        "trusted": true,
        "_uuid": "217dbc4d357558f39751e17c0f5a375a564cab1a"
      },
      "cell_type": "code",
      "source": "df_train[['aisle_id', 'department_id']] = df_train[['aisle_id', 'department_id']].astype('category')",
      "execution_count": 20,
      "outputs": []
    },
    {
      "metadata": {
        "trusted": true,
        "_uuid": "8a7db76f8b16fb7ea886d8540b00e71b1e38c407"
      },
      "cell_type": "code",
      "source": "X = df_train.drop(['order_id', 'product_id', 'y'], axis=1)\ny = df_train['y'].values",
      "execution_count": 21,
      "outputs": []
    },
    {
      "metadata": {
        "trusted": true,
        "_uuid": "d526588b615a74794296414efc60df2df3333f37"
      },
      "cell_type": "code",
      "source": "from sklearn.model_selection import train_test_split\nX_train, X_test, y_train, y_test = train_test_split(X,y,test_size = 0.3, random_state=30, shuffle = True, stratify = y)",
      "execution_count": 22,
      "outputs": []
    },
    {
      "metadata": {
        "trusted": false,
        "_uuid": "9b0c4d36249a30903b8dd80cc62aaa600ba068fa"
      },
      "cell_type": "code",
      "source": "# #Feature Scaling\n# from sklearn.preprocessing import StandardScaler\n# sc_X = StandardScaler()\n# X_train= sc_X.fit_transform(X_train)\n# X_test= sc_X.fit_transform(X_test)",
      "execution_count": null,
      "outputs": []
    },
    {
      "metadata": {
        "trusted": true,
        "_uuid": "53245f01541fb423339be3cdb2cb314cabec525f"
      },
      "cell_type": "code",
      "source": "#light_gbm\ndataset_train = lgb.Dataset(X_train, label=y_train, categorical_feature=['aisle_id', 'department_id'])",
      "execution_count": 23,
      "outputs": []
    },
    {
      "metadata": {
        "trusted": true,
        "_uuid": "35b450c4f2a598a0e3c26f62d98fc648c8854367"
      },
      "cell_type": "code",
      "source": "params = {\n    'task': 'train',\n    'boosting_type': 'gbdt',\n    'objective': 'binary',\n    'metric': {'binary_logloss'},\n    'num_leaves': 96,\n    'max_depth': 10,\n    'feature_fraction': 0.9,\n    'bagging_fraction': 0.95,\n    'bagging_freq': 5\n}\nROUNDS = 100",
      "execution_count": 24,
      "outputs": []
    },
    {
      "metadata": {
        "trusted": true,
        "_uuid": "3f18f42f144e54b498b02aebb076b573b155ecbf"
      },
      "cell_type": "code",
      "source": "model = lgb.train(params, dataset_train, ROUNDS)",
      "execution_count": 25,
      "outputs": [
        {
          "output_type": "stream",
          "text": "/opt/conda/lib/python3.6/site-packages/lightgbm/basic.py:1186: UserWarning: Using categorical_feature in Dataset.\n  warnings.warn('Using categorical_feature in Dataset.')\n",
          "name": "stderr"
        }
      ]
    },
    {
      "metadata": {
        "trusted": true,
        "_uuid": "5fad5df04505fa77bfaed8946ed322947a3dba6a"
      },
      "cell_type": "code",
      "source": "print('light GBM predict')\npreds = model.predict(X_test)",
      "execution_count": 60,
      "outputs": [
        {
          "output_type": "stream",
          "text": "light GBM predict\n",
          "name": "stdout"
        }
      ]
    },
    {
      "metadata": {
        "trusted": true,
        "_uuid": "392ae08677edd6d5f374b010d18a4eabb9fc5e05"
      },
      "cell_type": "code",
      "source": "preds[preds>=0.1] = 1\npreds[preds<.1] = 0 ",
      "execution_count": 61,
      "outputs": []
    },
    {
      "metadata": {
        "trusted": true,
        "_uuid": "71c084f75bdbc10bd23b5487ad9592e8a70a7f1c"
      },
      "cell_type": "code",
      "source": "from sklearn.metrics import accuracy_score, precision_score, recall_score, f1_score\nprint(\"Accuracy Score:\", accuracy_score(y_test, preds))\nprint(\"Precision Score:\", precision_score(y_test, preds))\nprint(\"Recall Score:\", recall_score(y_test, preds))\nprint(\"f1 Score:\", f1_score(y_test, preds))",
      "execution_count": 62,
      "outputs": [
        {
          "output_type": "stream",
          "text": "Accuracy Score: 0.6152802923537966\nPrecision Score: 0.15459218558524773\nRecall Score: 0.6565170703849232\nf1 Score: 0.25025582691306797\n",
          "name": "stdout"
        }
      ]
    },
    {
      "metadata": {
        "trusted": false,
        "_uuid": "a4d3c458e94d6f085c4040444c08f536c717df31"
      },
      "cell_type": "code",
      "source": "# param_grid_dt = {'max_depth' : np.arange(1,11),\n#                 'min_samples_leaf': [2,3,4,5]}\n# cv_optimize(classifier_dt, param_grid_dt, X_train, y_train)",
      "execution_count": null,
      "outputs": []
    },
    {
      "metadata": {
        "trusted": false,
        "_uuid": "de4ddf4fcba1c2c05744691211d6409d353b59c0"
      },
      "cell_type": "code",
      "source": "",
      "execution_count": null,
      "outputs": []
    }
  ],
  "metadata": {
    "kernelspec": {
      "display_name": "Python 3",
      "language": "python",
      "name": "python3"
    },
    "language_info": {
      "name": "python",
      "version": "3.6.6",
      "mimetype": "text/x-python",
      "codemirror_mode": {
        "name": "ipython",
        "version": 3
      },
      "pygments_lexer": "ipython3",
      "nbconvert_exporter": "python",
      "file_extension": ".py"
    }
  },
  "nbformat": 4,
  "nbformat_minor": 1
}