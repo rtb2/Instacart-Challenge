{
 "cells": [
  {
   "cell_type": "code",
   "execution_count": 1,
   "metadata": {
    "_cell_guid": "b1076dfc-b9ad-4769-8c92-a6c4dae69d19",
    "_uuid": "8f2839f25d086af736a60e9eeb907d3b93b6e0e5"
   },
   "outputs": [],
   "source": [
    "#importing required libraries\n",
    "import pandas as pd\n",
    "import numpy as np\n",
    "import glob\n",
    "from scipy import stats\n",
    "import matplotlib.pyplot as plt"
   ]
  },
  {
   "cell_type": "code",
   "execution_count": 2,
   "metadata": {
    "_cell_guid": "79c7e3d0-c299-4dcb-8224-4455121ee9b0",
    "_uuid": "d629ff2d2480ee46fbb7e2d37f6b5fab8052498a"
   },
   "outputs": [
    {
     "data": {
      "text/plain": [
       "'/home/jupyter'"
      ]
     },
     "execution_count": 2,
     "metadata": {},
     "output_type": "execute_result"
    }
   ],
   "source": [
    "import os\n",
    "os.getcwd()"
   ]
  },
  {
   "cell_type": "code",
   "execution_count": 3,
   "metadata": {
    "_uuid": "f4957232f94a2cbfe4174eca9045cc6bbfa8193c"
   },
   "outputs": [],
   "source": [
    "os.chdir(\"./Data\")"
   ]
  },
  {
   "cell_type": "code",
   "execution_count": 4,
   "metadata": {
    "_uuid": "01307455e7a5268157ff12f75c8018637072a70d"
   },
   "outputs": [],
   "source": [
    "#uploading files\n",
    "aisles = pd.read_csv(\"aisles.csv\", dtype={'aisle_id': np.uint8, 'aisle': 'category'})\n",
    "departments = pd.read_csv(\"departments.csv\", dtype={'department_id': np.uint8, 'department': 'category'})\n",
    "orders = pd.read_csv(\"orders.csv\", dtype = {'order_id': np.uint32,\n",
    "                                            'user_id': np.uint32,\n",
    "                                            'eval_set': 'category',\n",
    "                                            'order_number': np.uint8,\n",
    "                                            'order_dow': np.uint8,\n",
    "                                            'order_hour_of_day': np.uint8})\n",
    "orders_products_prior = pd.read_csv(\"order_products__prior.csv\", dtype={'order_id': np.uint32,\n",
    "                                                                        'product_id': np.uint16,\n",
    "                                                                        'add_to_cart_order': np.uint8,\n",
    "                                                                        'reordered': bool})\n",
    "orders_products_train = pd.read_csv(\"order_products__train.csv\", dtype={'order_id': np.uint32,\n",
    "                                                                        'product_id': np.uint16,\n",
    "                                                                        'add_to_cart_order': np.uint8,\n",
    "                                                                        'reordered': bool})\n",
    "products = pd.read_csv(\"products.csv\", dtype={'product_id': np.uint16,\n",
    "                                              'aisle_id': np.uint8,\n",
    "                                              'department_id': np.uint8})"
   ]
  },
  {
   "cell_type": "code",
   "execution_count": 5,
   "metadata": {
    "_uuid": "700df2df4436a8a9cfe5ff49733033844ef5339e"
   },
   "outputs": [],
   "source": [
    "data_list = [aisles, departments, orders, \n",
    "             orders_products_prior, orders_products_train, products]\n",
    "data_list_name = ['aisles', 'departments', 'orders', \n",
    "'orders_products_prior', 'orders_products_train', 'products']\n",
    "\n",
    "j=0\n",
    "for i in data_list:\n",
    "    i.name = data_list_name[j]\n",
    "    j += 1"
   ]
  },
  {
   "cell_type": "code",
   "execution_count": 6,
   "metadata": {
    "_uuid": "d5575be59b74fcc6387f0e5600b0f5ffa52cca55"
   },
   "outputs": [],
   "source": [
    "#Checking for null values\n",
    "#Creating a function to find null values\n",
    "def null_columns(x):\n",
    "    y = x.columns[x.isnull().any()]\n",
    "    return y"
   ]
  },
  {
   "cell_type": "code",
   "execution_count": 7,
   "metadata": {
    "_uuid": "6e953e83c513ac8f6e8d41e3b4062cb400baa7e2"
   },
   "outputs": [
    {
     "name": "stdout",
     "output_type": "stream",
     "text": [
      "Dataset aisles has no null values \n",
      "Dataset departments has no null values \n",
      "Dataset orders has null values in column ['days_since_prior_order']\n",
      "Dataset orders_products_prior has no null values \n",
      "Dataset orders_products_train has no null values \n",
      "Dataset products has no null values \n"
     ]
    }
   ],
   "source": [
    "for dataset in data_list:\n",
    "    if len(null_columns(dataset)) == 0:\n",
    "        print('Dataset ' + dataset.name + ' has no null values ')\n",
    "    else:\n",
    "        print('Dataset '+ dataset.name + ' has null values in column '+ str([i for i in null_columns(dataset)]))"
   ]
  },
  {
   "cell_type": "code",
   "execution_count": 8,
   "metadata": {
    "_uuid": "c1f417811ecda4f91f1b81bcd190a4224b004640"
   },
   "outputs": [
    {
     "data": {
      "text/plain": [
       "206209"
      ]
     },
     "execution_count": 8,
     "metadata": {},
     "output_type": "execute_result"
    }
   ],
   "source": [
    "#Dataset orders has null values in column ['days_since_prior_order'] \n",
    "# Other Columns have no null values\n",
    "#Finding the number of null values in orders.days_since_prior_order\n",
    "sum(orders.days_since_prior_order.isnull())"
   ]
  },
  {
   "cell_type": "code",
   "execution_count": 9,
   "metadata": {
    "_uuid": "1be52bda705737a0777efe6cc1e253efad721f20"
   },
   "outputs": [
    {
     "data": {
      "text/html": [
       "<div>\n",
       "<style scoped>\n",
       "    .dataframe tbody tr th:only-of-type {\n",
       "        vertical-align: middle;\n",
       "    }\n",
       "\n",
       "    .dataframe tbody tr th {\n",
       "        vertical-align: top;\n",
       "    }\n",
       "\n",
       "    .dataframe thead th {\n",
       "        text-align: right;\n",
       "    }\n",
       "</style>\n",
       "<table border=\"1\" class=\"dataframe\">\n",
       "  <thead>\n",
       "    <tr style=\"text-align: right;\">\n",
       "      <th></th>\n",
       "      <th>user_id</th>\n",
       "      <th>order_number</th>\n",
       "    </tr>\n",
       "  </thead>\n",
       "  <tbody>\n",
       "    <tr>\n",
       "      <th>0</th>\n",
       "      <td>1</td>\n",
       "      <td>1</td>\n",
       "    </tr>\n",
       "    <tr>\n",
       "      <th>11</th>\n",
       "      <td>2</td>\n",
       "      <td>1</td>\n",
       "    </tr>\n",
       "    <tr>\n",
       "      <th>26</th>\n",
       "      <td>3</td>\n",
       "      <td>1</td>\n",
       "    </tr>\n",
       "    <tr>\n",
       "      <th>39</th>\n",
       "      <td>4</td>\n",
       "      <td>1</td>\n",
       "    </tr>\n",
       "    <tr>\n",
       "      <th>45</th>\n",
       "      <td>5</td>\n",
       "      <td>1</td>\n",
       "    </tr>\n",
       "    <tr>\n",
       "      <th>50</th>\n",
       "      <td>6</td>\n",
       "      <td>1</td>\n",
       "    </tr>\n",
       "    <tr>\n",
       "      <th>54</th>\n",
       "      <td>7</td>\n",
       "      <td>1</td>\n",
       "    </tr>\n",
       "    <tr>\n",
       "      <th>75</th>\n",
       "      <td>8</td>\n",
       "      <td>1</td>\n",
       "    </tr>\n",
       "    <tr>\n",
       "      <th>79</th>\n",
       "      <td>9</td>\n",
       "      <td>1</td>\n",
       "    </tr>\n",
       "    <tr>\n",
       "      <th>83</th>\n",
       "      <td>10</td>\n",
       "      <td>1</td>\n",
       "    </tr>\n",
       "    <tr>\n",
       "      <th>89</th>\n",
       "      <td>11</td>\n",
       "      <td>1</td>\n",
       "    </tr>\n",
       "    <tr>\n",
       "      <th>97</th>\n",
       "      <td>12</td>\n",
       "      <td>1</td>\n",
       "    </tr>\n",
       "    <tr>\n",
       "      <th>103</th>\n",
       "      <td>13</td>\n",
       "      <td>1</td>\n",
       "    </tr>\n",
       "    <tr>\n",
       "      <th>116</th>\n",
       "      <td>14</td>\n",
       "      <td>1</td>\n",
       "    </tr>\n",
       "    <tr>\n",
       "      <th>130</th>\n",
       "      <td>15</td>\n",
       "      <td>1</td>\n",
       "    </tr>\n",
       "    <tr>\n",
       "      <th>153</th>\n",
       "      <td>16</td>\n",
       "      <td>1</td>\n",
       "    </tr>\n",
       "    <tr>\n",
       "      <th>160</th>\n",
       "      <td>17</td>\n",
       "      <td>1</td>\n",
       "    </tr>\n",
       "    <tr>\n",
       "      <th>201</th>\n",
       "      <td>18</td>\n",
       "      <td>1</td>\n",
       "    </tr>\n",
       "    <tr>\n",
       "      <th>208</th>\n",
       "      <td>19</td>\n",
       "      <td>1</td>\n",
       "    </tr>\n",
       "    <tr>\n",
       "      <th>218</th>\n",
       "      <td>20</td>\n",
       "      <td>1</td>\n",
       "    </tr>\n",
       "    <tr>\n",
       "      <th>223</th>\n",
       "      <td>21</td>\n",
       "      <td>1</td>\n",
       "    </tr>\n",
       "    <tr>\n",
       "      <th>257</th>\n",
       "      <td>22</td>\n",
       "      <td>1</td>\n",
       "    </tr>\n",
       "    <tr>\n",
       "      <th>273</th>\n",
       "      <td>23</td>\n",
       "      <td>1</td>\n",
       "    </tr>\n",
       "    <tr>\n",
       "      <th>278</th>\n",
       "      <td>24</td>\n",
       "      <td>1</td>\n",
       "    </tr>\n",
       "    <tr>\n",
       "      <th>297</th>\n",
       "      <td>25</td>\n",
       "      <td>1</td>\n",
       "    </tr>\n",
       "    <tr>\n",
       "      <th>301</th>\n",
       "      <td>26</td>\n",
       "      <td>1</td>\n",
       "    </tr>\n",
       "    <tr>\n",
       "      <th>314</th>\n",
       "      <td>27</td>\n",
       "      <td>1</td>\n",
       "    </tr>\n",
       "    <tr>\n",
       "      <th>396</th>\n",
       "      <td>28</td>\n",
       "      <td>1</td>\n",
       "    </tr>\n",
       "    <tr>\n",
       "      <th>421</th>\n",
       "      <td>29</td>\n",
       "      <td>1</td>\n",
       "    </tr>\n",
       "    <tr>\n",
       "      <th>440</th>\n",
       "      <td>30</td>\n",
       "      <td>1</td>\n",
       "    </tr>\n",
       "    <tr>\n",
       "      <th>...</th>\n",
       "      <td>...</td>\n",
       "      <td>...</td>\n",
       "    </tr>\n",
       "    <tr>\n",
       "      <th>3420548</th>\n",
       "      <td>206180</td>\n",
       "      <td>1</td>\n",
       "    </tr>\n",
       "    <tr>\n",
       "      <th>3420567</th>\n",
       "      <td>206181</td>\n",
       "      <td>1</td>\n",
       "    </tr>\n",
       "    <tr>\n",
       "      <th>3420582</th>\n",
       "      <td>206182</td>\n",
       "      <td>1</td>\n",
       "    </tr>\n",
       "    <tr>\n",
       "      <th>3420593</th>\n",
       "      <td>206183</td>\n",
       "      <td>1</td>\n",
       "    </tr>\n",
       "    <tr>\n",
       "      <th>3420608</th>\n",
       "      <td>206184</td>\n",
       "      <td>1</td>\n",
       "    </tr>\n",
       "    <tr>\n",
       "      <th>3420613</th>\n",
       "      <td>206185</td>\n",
       "      <td>1</td>\n",
       "    </tr>\n",
       "    <tr>\n",
       "      <th>3420624</th>\n",
       "      <td>206186</td>\n",
       "      <td>1</td>\n",
       "    </tr>\n",
       "    <tr>\n",
       "      <th>3420628</th>\n",
       "      <td>206187</td>\n",
       "      <td>1</td>\n",
       "    </tr>\n",
       "    <tr>\n",
       "      <th>3420663</th>\n",
       "      <td>206188</td>\n",
       "      <td>1</td>\n",
       "    </tr>\n",
       "    <tr>\n",
       "      <th>3420671</th>\n",
       "      <td>206189</td>\n",
       "      <td>1</td>\n",
       "    </tr>\n",
       "    <tr>\n",
       "      <th>3420678</th>\n",
       "      <td>206190</td>\n",
       "      <td>1</td>\n",
       "    </tr>\n",
       "    <tr>\n",
       "      <th>3420687</th>\n",
       "      <td>206191</td>\n",
       "      <td>1</td>\n",
       "    </tr>\n",
       "    <tr>\n",
       "      <th>3420693</th>\n",
       "      <td>206192</td>\n",
       "      <td>1</td>\n",
       "    </tr>\n",
       "    <tr>\n",
       "      <th>3420708</th>\n",
       "      <td>206193</td>\n",
       "      <td>1</td>\n",
       "    </tr>\n",
       "    <tr>\n",
       "      <th>3420750</th>\n",
       "      <td>206194</td>\n",
       "      <td>1</td>\n",
       "    </tr>\n",
       "    <tr>\n",
       "      <th>3420762</th>\n",
       "      <td>206195</td>\n",
       "      <td>1</td>\n",
       "    </tr>\n",
       "    <tr>\n",
       "      <th>3420782</th>\n",
       "      <td>206196</td>\n",
       "      <td>1</td>\n",
       "    </tr>\n",
       "    <tr>\n",
       "      <th>3420787</th>\n",
       "      <td>206197</td>\n",
       "      <td>1</td>\n",
       "    </tr>\n",
       "    <tr>\n",
       "      <th>3420811</th>\n",
       "      <td>206198</td>\n",
       "      <td>1</td>\n",
       "    </tr>\n",
       "    <tr>\n",
       "      <th>3420819</th>\n",
       "      <td>206199</td>\n",
       "      <td>1</td>\n",
       "    </tr>\n",
       "    <tr>\n",
       "      <th>3420839</th>\n",
       "      <td>206200</td>\n",
       "      <td>1</td>\n",
       "    </tr>\n",
       "    <tr>\n",
       "      <th>3420863</th>\n",
       "      <td>206201</td>\n",
       "      <td>1</td>\n",
       "    </tr>\n",
       "    <tr>\n",
       "      <th>3420896</th>\n",
       "      <td>206202</td>\n",
       "      <td>1</td>\n",
       "    </tr>\n",
       "    <tr>\n",
       "      <th>3420919</th>\n",
       "      <td>206203</td>\n",
       "      <td>1</td>\n",
       "    </tr>\n",
       "    <tr>\n",
       "      <th>3420925</th>\n",
       "      <td>206204</td>\n",
       "      <td>1</td>\n",
       "    </tr>\n",
       "    <tr>\n",
       "      <th>3420930</th>\n",
       "      <td>206205</td>\n",
       "      <td>1</td>\n",
       "    </tr>\n",
       "    <tr>\n",
       "      <th>3420934</th>\n",
       "      <td>206206</td>\n",
       "      <td>1</td>\n",
       "    </tr>\n",
       "    <tr>\n",
       "      <th>3421002</th>\n",
       "      <td>206207</td>\n",
       "      <td>1</td>\n",
       "    </tr>\n",
       "    <tr>\n",
       "      <th>3421019</th>\n",
       "      <td>206208</td>\n",
       "      <td>1</td>\n",
       "    </tr>\n",
       "    <tr>\n",
       "      <th>3421069</th>\n",
       "      <td>206209</td>\n",
       "      <td>1</td>\n",
       "    </tr>\n",
       "  </tbody>\n",
       "</table>\n",
       "<p>206209 rows × 2 columns</p>\n",
       "</div>"
      ],
      "text/plain": [
       "         user_id  order_number\n",
       "0              1             1\n",
       "11             2             1\n",
       "26             3             1\n",
       "39             4             1\n",
       "45             5             1\n",
       "50             6             1\n",
       "54             7             1\n",
       "75             8             1\n",
       "79             9             1\n",
       "83            10             1\n",
       "89            11             1\n",
       "97            12             1\n",
       "103           13             1\n",
       "116           14             1\n",
       "130           15             1\n",
       "153           16             1\n",
       "160           17             1\n",
       "201           18             1\n",
       "208           19             1\n",
       "218           20             1\n",
       "223           21             1\n",
       "257           22             1\n",
       "273           23             1\n",
       "278           24             1\n",
       "297           25             1\n",
       "301           26             1\n",
       "314           27             1\n",
       "396           28             1\n",
       "421           29             1\n",
       "440           30             1\n",
       "...          ...           ...\n",
       "3420548   206180             1\n",
       "3420567   206181             1\n",
       "3420582   206182             1\n",
       "3420593   206183             1\n",
       "3420608   206184             1\n",
       "3420613   206185             1\n",
       "3420624   206186             1\n",
       "3420628   206187             1\n",
       "3420663   206188             1\n",
       "3420671   206189             1\n",
       "3420678   206190             1\n",
       "3420687   206191             1\n",
       "3420693   206192             1\n",
       "3420708   206193             1\n",
       "3420750   206194             1\n",
       "3420762   206195             1\n",
       "3420782   206196             1\n",
       "3420787   206197             1\n",
       "3420811   206198             1\n",
       "3420819   206199             1\n",
       "3420839   206200             1\n",
       "3420863   206201             1\n",
       "3420896   206202             1\n",
       "3420919   206203             1\n",
       "3420925   206204             1\n",
       "3420930   206205             1\n",
       "3420934   206206             1\n",
       "3421002   206207             1\n",
       "3421019   206208             1\n",
       "3421069   206209             1\n",
       "\n",
       "[206209 rows x 2 columns]"
      ]
     },
     "execution_count": 9,
     "metadata": {},
     "output_type": "execute_result"
    }
   ],
   "source": [
    "#There are 206209 null values\n",
    "#Lets examine the null values\n",
    "orders.loc[orders.days_since_prior_order.isnull()==True,['user_id', 'order_number']]"
   ]
  },
  {
   "cell_type": "code",
   "execution_count": 10,
   "metadata": {
    "_uuid": "c513783a57b3b9a458ada2b31bc24518e736a9de"
   },
   "outputs": [],
   "source": [
    "#days_since_prior_order attribue for first order for all the users is null so it can be changed to 0\n",
    "\n",
    "orders.days_since_prior_order = orders.days_since_prior_order.fillna(int(0))"
   ]
  },
  {
   "cell_type": "markdown",
   "metadata": {
    "_uuid": "e79f3ef77448ccc461c98dfdf839a9ca151b1b84"
   },
   "source": [
    "## Feature Engineering"
   ]
  },
  {
   "cell_type": "code",
   "execution_count": 11,
   "metadata": {
    "_uuid": "be142d72a2a25da73ad2c202774befdaeba89972"
   },
   "outputs": [],
   "source": [
    "prior_prods = pd.DataFrame()\n",
    "prior_prods['prior_orders'] = orders_products_prior.groupby(orders_products_prior.product_id).size().astype(np.int32)\n",
    "prior_prods['prior_reorders'] = orders_products_prior['reordered'].groupby(orders_products_prior.product_id).sum().astype(np.float32)\n",
    "prior_prods['prior_reorder_rate'] = (prior_prods.prior_reorders / prior_prods.prior_orders).astype(np.float32)"
   ]
  },
  {
   "cell_type": "code",
   "execution_count": 12,
   "metadata": {
    "_uuid": "7047117a4973b93c7369b9ce11725eca40e64733"
   },
   "outputs": [],
   "source": [
    "prior_products = products.join(prior_prods, on='product_id')"
   ]
  },
  {
   "cell_type": "code",
   "execution_count": 13,
   "metadata": {
    "_uuid": "3d90859b32de8403c05202e2cdbc32c54261bc31"
   },
   "outputs": [],
   "source": [
    "prior_products['is_gluten_free'] = prior_products['product_name'].str.contains('gluten' and 'free') * 1\n",
    "prior_products['is_organic'] = prior_products['product_name'].str.contains('organic' or 'Organic') * 1\n",
    "prior_products['is_low_fat'] = prior_products['product_name'].str.contains('low' and 'fat') * 1"
   ]
  },
  {
   "cell_type": "code",
   "execution_count": 14,
   "metadata": {
    "_uuid": "beb125af6ba359368811953f8d5f349256854abf"
   },
   "outputs": [],
   "source": [
    "prior_avg_add_to_cart = orders_products_prior.groupby('product_id')['add_to_cart_order'].mean().to_frame('prior_avg_add_to_cart').astype(np.float32).reset_index()"
   ]
  },
  {
   "cell_type": "code",
   "execution_count": 15,
   "metadata": {
    "_uuid": "9633c42eb830d2857493b9ac8f40c5286f6f8c18"
   },
   "outputs": [],
   "source": [
    "prior_products = prior_products.merge(prior_avg_add_to_cart, how='left', left_on='product_id', right_on='product_id')"
   ]
  },
  {
   "cell_type": "code",
   "execution_count": 16,
   "metadata": {
    "_uuid": "28ffa103ac1e3080df8ea71540fcb74e83938ce1"
   },
   "outputs": [],
   "source": [
    "prior_products = prior_products.replace([np.inf, -np.inf], np.nan)"
   ]
  },
  {
   "cell_type": "code",
   "execution_count": 17,
   "metadata": {
    "_uuid": "51442b4b15eee630320696f05a5cc98fe5a57dac"
   },
   "outputs": [],
   "source": [
    "prior_products = prior_products.fillna(0)\n",
    "# prior_products.to_pickle('prior_products')"
   ]
  },
  {
   "cell_type": "code",
   "execution_count": 18,
   "metadata": {
    "_uuid": "a45d5f545af7c5ee0fc09cf328d9634099f2f303"
   },
   "outputs": [
    {
     "data": {
      "text/html": [
       "<div>\n",
       "<style scoped>\n",
       "    .dataframe tbody tr th:only-of-type {\n",
       "        vertical-align: middle;\n",
       "    }\n",
       "\n",
       "    .dataframe tbody tr th {\n",
       "        vertical-align: top;\n",
       "    }\n",
       "\n",
       "    .dataframe thead th {\n",
       "        text-align: right;\n",
       "    }\n",
       "</style>\n",
       "<table border=\"1\" class=\"dataframe\">\n",
       "  <thead>\n",
       "    <tr style=\"text-align: right;\">\n",
       "      <th></th>\n",
       "      <th>order_id</th>\n",
       "      <th>product_id</th>\n",
       "      <th>add_to_cart_order</th>\n",
       "      <th>reordered</th>\n",
       "      <th>product_name</th>\n",
       "      <th>aisle_id</th>\n",
       "      <th>department_id</th>\n",
       "    </tr>\n",
       "  </thead>\n",
       "  <tbody>\n",
       "    <tr>\n",
       "      <th>0</th>\n",
       "      <td>2</td>\n",
       "      <td>33120</td>\n",
       "      <td>1</td>\n",
       "      <td>True</td>\n",
       "      <td>Organic Egg Whites</td>\n",
       "      <td>86</td>\n",
       "      <td>16</td>\n",
       "    </tr>\n",
       "    <tr>\n",
       "      <th>1</th>\n",
       "      <td>26</td>\n",
       "      <td>33120</td>\n",
       "      <td>5</td>\n",
       "      <td>False</td>\n",
       "      <td>Organic Egg Whites</td>\n",
       "      <td>86</td>\n",
       "      <td>16</td>\n",
       "    </tr>\n",
       "    <tr>\n",
       "      <th>2</th>\n",
       "      <td>120</td>\n",
       "      <td>33120</td>\n",
       "      <td>13</td>\n",
       "      <td>False</td>\n",
       "      <td>Organic Egg Whites</td>\n",
       "      <td>86</td>\n",
       "      <td>16</td>\n",
       "    </tr>\n",
       "    <tr>\n",
       "      <th>3</th>\n",
       "      <td>327</td>\n",
       "      <td>33120</td>\n",
       "      <td>5</td>\n",
       "      <td>True</td>\n",
       "      <td>Organic Egg Whites</td>\n",
       "      <td>86</td>\n",
       "      <td>16</td>\n",
       "    </tr>\n",
       "    <tr>\n",
       "      <th>4</th>\n",
       "      <td>390</td>\n",
       "      <td>33120</td>\n",
       "      <td>28</td>\n",
       "      <td>True</td>\n",
       "      <td>Organic Egg Whites</td>\n",
       "      <td>86</td>\n",
       "      <td>16</td>\n",
       "    </tr>\n",
       "  </tbody>\n",
       "</table>\n",
       "</div>"
      ],
      "text/plain": [
       "   order_id  product_id  add_to_cart_order  reordered        product_name  \\\n",
       "0         2       33120                  1       True  Organic Egg Whites   \n",
       "1        26       33120                  5      False  Organic Egg Whites   \n",
       "2       120       33120                 13      False  Organic Egg Whites   \n",
       "3       327       33120                  5       True  Organic Egg Whites   \n",
       "4       390       33120                 28       True  Organic Egg Whites   \n",
       "\n",
       "   aisle_id  department_id  \n",
       "0        86             16  \n",
       "1        86             16  \n",
       "2        86             16  \n",
       "3        86             16  \n",
       "4        86             16  "
      ]
     },
     "execution_count": 18,
     "metadata": {},
     "output_type": "execute_result"
    }
   ],
   "source": [
    "#Merging with products\n",
    "orders_products_prior = orders_products_prior.merge(products, on='product_id')\n",
    "orders_products_prior.head()"
   ]
  },
  {
   "cell_type": "code",
   "execution_count": 19,
   "metadata": {
    "_uuid": "924b38eb35115b38526c31f5b1c5ba2d8a2bc52a"
   },
   "outputs": [
    {
     "data": {
      "text/html": [
       "<div>\n",
       "<style scoped>\n",
       "    .dataframe tbody tr th:only-of-type {\n",
       "        vertical-align: middle;\n",
       "    }\n",
       "\n",
       "    .dataframe tbody tr th {\n",
       "        vertical-align: top;\n",
       "    }\n",
       "\n",
       "    .dataframe thead th {\n",
       "        text-align: right;\n",
       "    }\n",
       "</style>\n",
       "<table border=\"1\" class=\"dataframe\">\n",
       "  <thead>\n",
       "    <tr style=\"text-align: right;\">\n",
       "      <th></th>\n",
       "      <th>order_id</th>\n",
       "      <th>product_id</th>\n",
       "      <th>add_to_cart_order</th>\n",
       "      <th>reordered</th>\n",
       "      <th>product_name</th>\n",
       "      <th>aisle_id</th>\n",
       "      <th>department_id</th>\n",
       "      <th>user_id</th>\n",
       "      <th>eval_set</th>\n",
       "      <th>order_number</th>\n",
       "      <th>order_dow</th>\n",
       "      <th>order_hour_of_day</th>\n",
       "      <th>days_since_prior_order</th>\n",
       "    </tr>\n",
       "  </thead>\n",
       "  <tbody>\n",
       "    <tr>\n",
       "      <th>0</th>\n",
       "      <td>2</td>\n",
       "      <td>33120</td>\n",
       "      <td>1</td>\n",
       "      <td>True</td>\n",
       "      <td>Organic Egg Whites</td>\n",
       "      <td>86</td>\n",
       "      <td>16</td>\n",
       "      <td>202279</td>\n",
       "      <td>prior</td>\n",
       "      <td>3</td>\n",
       "      <td>5</td>\n",
       "      <td>9</td>\n",
       "      <td>8.0</td>\n",
       "    </tr>\n",
       "    <tr>\n",
       "      <th>1</th>\n",
       "      <td>2</td>\n",
       "      <td>28985</td>\n",
       "      <td>2</td>\n",
       "      <td>True</td>\n",
       "      <td>Michigan Organic Kale</td>\n",
       "      <td>83</td>\n",
       "      <td>4</td>\n",
       "      <td>202279</td>\n",
       "      <td>prior</td>\n",
       "      <td>3</td>\n",
       "      <td>5</td>\n",
       "      <td>9</td>\n",
       "      <td>8.0</td>\n",
       "    </tr>\n",
       "    <tr>\n",
       "      <th>2</th>\n",
       "      <td>2</td>\n",
       "      <td>9327</td>\n",
       "      <td>3</td>\n",
       "      <td>False</td>\n",
       "      <td>Garlic Powder</td>\n",
       "      <td>104</td>\n",
       "      <td>13</td>\n",
       "      <td>202279</td>\n",
       "      <td>prior</td>\n",
       "      <td>3</td>\n",
       "      <td>5</td>\n",
       "      <td>9</td>\n",
       "      <td>8.0</td>\n",
       "    </tr>\n",
       "    <tr>\n",
       "      <th>3</th>\n",
       "      <td>2</td>\n",
       "      <td>45918</td>\n",
       "      <td>4</td>\n",
       "      <td>True</td>\n",
       "      <td>Coconut Butter</td>\n",
       "      <td>19</td>\n",
       "      <td>13</td>\n",
       "      <td>202279</td>\n",
       "      <td>prior</td>\n",
       "      <td>3</td>\n",
       "      <td>5</td>\n",
       "      <td>9</td>\n",
       "      <td>8.0</td>\n",
       "    </tr>\n",
       "    <tr>\n",
       "      <th>4</th>\n",
       "      <td>2</td>\n",
       "      <td>30035</td>\n",
       "      <td>5</td>\n",
       "      <td>False</td>\n",
       "      <td>Natural Sweetener</td>\n",
       "      <td>17</td>\n",
       "      <td>13</td>\n",
       "      <td>202279</td>\n",
       "      <td>prior</td>\n",
       "      <td>3</td>\n",
       "      <td>5</td>\n",
       "      <td>9</td>\n",
       "      <td>8.0</td>\n",
       "    </tr>\n",
       "  </tbody>\n",
       "</table>\n",
       "</div>"
      ],
      "text/plain": [
       "   order_id  product_id  add_to_cart_order  reordered           product_name  \\\n",
       "0         2       33120                  1       True     Organic Egg Whites   \n",
       "1         2       28985                  2       True  Michigan Organic Kale   \n",
       "2         2        9327                  3      False          Garlic Powder   \n",
       "3         2       45918                  4       True         Coconut Butter   \n",
       "4         2       30035                  5      False      Natural Sweetener   \n",
       "\n",
       "   aisle_id  department_id  user_id eval_set  order_number  order_dow  \\\n",
       "0        86             16   202279    prior             3          5   \n",
       "1        83              4   202279    prior             3          5   \n",
       "2       104             13   202279    prior             3          5   \n",
       "3        19             13   202279    prior             3          5   \n",
       "4        17             13   202279    prior             3          5   \n",
       "\n",
       "   order_hour_of_day  days_since_prior_order  \n",
       "0                  9                     8.0  \n",
       "1                  9                     8.0  \n",
       "2                  9                     8.0  \n",
       "3                  9                     8.0  \n",
       "4                  9                     8.0  "
      ]
     },
     "execution_count": 19,
     "metadata": {},
     "output_type": "execute_result"
    }
   ],
   "source": [
    "#Merging with products\n",
    "#Adding Order info to prior orders\n",
    "orders_products_prior = orders_products_prior.merge(orders, on='order_id')\n",
    "orders_products_prior.head()"
   ]
  },
  {
   "cell_type": "markdown",
   "metadata": {
    "_uuid": "1f5c6f9c98d1f14325d8987330538e8b8c657d79"
   },
   "source": [
    "### User_features"
   ]
  },
  {
   "cell_type": "code",
   "execution_count": 20,
   "metadata": {
    "_uuid": "46482ba5fabf6b8e275479db18284ca27bf4bdc3"
   },
   "outputs": [],
   "source": [
    "#User Features\n",
    "user = pd.DataFrame()\n",
    "user['mean_days_between_orders'] = orders.groupby('user_id')['days_since_prior_order'].mean().astype(np.float32)\n",
    "user['number_of_orders'] = orders.groupby('user_id').size().astype(np.int16)\n",
    "user = user.reset_index()"
   ]
  },
  {
   "cell_type": "code",
   "execution_count": 21,
   "metadata": {
    "_uuid": "04abb8c9fb4656fc968a10bb8925816baada6ff6"
   },
   "outputs": [
    {
     "data": {
      "text/html": [
       "<div>\n",
       "<style scoped>\n",
       "    .dataframe tbody tr th:only-of-type {\n",
       "        vertical-align: middle;\n",
       "    }\n",
       "\n",
       "    .dataframe tbody tr th {\n",
       "        vertical-align: top;\n",
       "    }\n",
       "\n",
       "    .dataframe thead th {\n",
       "        text-align: right;\n",
       "    }\n",
       "</style>\n",
       "<table border=\"1\" class=\"dataframe\">\n",
       "  <thead>\n",
       "    <tr style=\"text-align: right;\">\n",
       "      <th></th>\n",
       "      <th>user_id</th>\n",
       "      <th>prior_total_items</th>\n",
       "      <th>prior_all_products</th>\n",
       "      <th>total_distinct_products</th>\n",
       "      <th>mean_days_between_orders</th>\n",
       "      <th>number_of_orders</th>\n",
       "      <th>average_products_per_basket</th>\n",
       "    </tr>\n",
       "  </thead>\n",
       "  <tbody>\n",
       "    <tr>\n",
       "      <th>0</th>\n",
       "      <td>1</td>\n",
       "      <td>59</td>\n",
       "      <td>{17122, 196, 46149, 26405, 14084, 13032, 26088...</td>\n",
       "      <td>18</td>\n",
       "      <td>17.272728</td>\n",
       "      <td>11</td>\n",
       "      <td>5.363636</td>\n",
       "    </tr>\n",
       "    <tr>\n",
       "      <th>1</th>\n",
       "      <td>2</td>\n",
       "      <td>195</td>\n",
       "      <td>{45066, 2573, 18961, 1559, 32792, 23, 22559, 1...</td>\n",
       "      <td>102</td>\n",
       "      <td>15.200000</td>\n",
       "      <td>15</td>\n",
       "      <td>13.000000</td>\n",
       "    </tr>\n",
       "    <tr>\n",
       "      <th>2</th>\n",
       "      <td>3</td>\n",
       "      <td>88</td>\n",
       "      <td>{17668, 44683, 48523, 21903, 14992, 21137, 324...</td>\n",
       "      <td>33</td>\n",
       "      <td>11.076923</td>\n",
       "      <td>13</td>\n",
       "      <td>6.769231</td>\n",
       "    </tr>\n",
       "    <tr>\n",
       "      <th>3</th>\n",
       "      <td>4</td>\n",
       "      <td>18</td>\n",
       "      <td>{21573, 42329, 17769, 35469, 37646, 1200, 1905...</td>\n",
       "      <td>17</td>\n",
       "      <td>14.166667</td>\n",
       "      <td>6</td>\n",
       "      <td>3.000000</td>\n",
       "    </tr>\n",
       "    <tr>\n",
       "      <th>4</th>\n",
       "      <td>5</td>\n",
       "      <td>37</td>\n",
       "      <td>{11777, 28289, 40706, 48775, 20754, 6808, 1398...</td>\n",
       "      <td>23</td>\n",
       "      <td>9.200000</td>\n",
       "      <td>5</td>\n",
       "      <td>7.400000</td>\n",
       "    </tr>\n",
       "  </tbody>\n",
       "</table>\n",
       "</div>"
      ],
      "text/plain": [
       "   user_id  prior_total_items  \\\n",
       "0        1                 59   \n",
       "1        2                195   \n",
       "2        3                 88   \n",
       "3        4                 18   \n",
       "4        5                 37   \n",
       "\n",
       "                                  prior_all_products  total_distinct_products  \\\n",
       "0  {17122, 196, 46149, 26405, 14084, 13032, 26088...                       18   \n",
       "1  {45066, 2573, 18961, 1559, 32792, 23, 22559, 1...                      102   \n",
       "2  {17668, 44683, 48523, 21903, 14992, 21137, 324...                       33   \n",
       "3  {21573, 42329, 17769, 35469, 37646, 1200, 1905...                       17   \n",
       "4  {11777, 28289, 40706, 48775, 20754, 6808, 1398...                       23   \n",
       "\n",
       "   mean_days_between_orders  number_of_orders  average_products_per_basket  \n",
       "0                 17.272728                11                     5.363636  \n",
       "1                 15.200000                15                    13.000000  \n",
       "2                 11.076923                13                     6.769231  \n",
       "3                 14.166667                 6                     3.000000  \n",
       "4                  9.200000                 5                     7.400000  "
      ]
     },
     "execution_count": 21,
     "metadata": {},
     "output_type": "execute_result"
    }
   ],
   "source": [
    "#User features based on prior orders\n",
    "prior_users = pd.DataFrame()\n",
    "prior_users['prior_total_items'] = orders_products_prior.groupby('user_id').size().astype(np.int16)\n",
    "prior_users['prior_all_products'] = orders_products_prior.groupby('user_id')['product_id'].apply(set)\n",
    "prior_users['total_distinct_products'] = prior_users.prior_all_products.map(len).astype(np.int16)\n",
    "\n",
    "prior_users = prior_users.reset_index()\n",
    "prior_users = prior_users.merge(user, on = 'user_id')\n",
    "del user\n",
    "prior_users['average_products_per_basket'] = (prior_users.prior_total_items / prior_users.number_of_orders).astype(np.float32)\n",
    "prior_users = pd.DataFrame(prior_users)\n",
    "prior_users.head()"
   ]
  },
  {
   "cell_type": "code",
   "execution_count": 22,
   "metadata": {},
   "outputs": [],
   "source": [
    "# prior_users.to_pickle('./Created Datasets/prior_users')"
   ]
  },
  {
   "cell_type": "markdown",
   "metadata": {},
   "source": [
    "### Product Features"
   ]
  },
  {
   "cell_type": "code",
   "execution_count": 23,
   "metadata": {
    "_uuid": "53e4b2edda36d0ef3073b0b31d30ac47eb116fcf"
   },
   "outputs": [],
   "source": [
    "#Top_100_reordered_products_prior\n",
    "top_100_reordered_products = pd.DataFrame(orders_products_prior.loc[orders_products_prior.reordered == \n",
    "                                                       True].groupby('product_id').size().sort_values(ascending=False).head(100).reset_index(name='counts'))\n",
    "top_100_reordered_products_list = list(top_100_reordered_products.product_id)\n",
    "\n",
    "#Top_30_reordered_aisle_prior\n",
    "top_30_reordered_aisles = pd.DataFrame(orders_products_prior.loc[orders_products_prior.reordered ==\n",
    "                                                                 True].groupby('aisle_id').size().sort_values(ascending=False).head(30).reset_index(name='counts'))\n",
    "top_30_reordered_aisles_list = list(top_30_reordered_aisles.aisle_id)\n",
    "\n",
    "#Top_10_reordered_deparments_prior\n",
    "top_10_reordered_department = pd.DataFrame(orders_products_prior.loc[orders_products_prior.reordered == \n",
    "                                                       True].groupby('department_id').size().sort_values(ascending=False).head(10).reset_index(name='counts'))\n",
    "top_10_reordered_departments_list = list(top_10_reordered_department.department_id)"
   ]
  },
  {
   "cell_type": "code",
   "execution_count": 24,
   "metadata": {},
   "outputs": [],
   "source": [
    "# top_100_reordered_products.to_pickle('./Created Datasets/top_100_reordered_products')\n",
    "# top_30_reordered_aisles.to_pickle('./Created Datasets/top_30_reordered_aisles')\n",
    "# top_10_reordered_department.to_pickle('./Created Datasets/top_10_reordered_department')"
   ]
  },
  {
   "cell_type": "code",
   "execution_count": 25,
   "metadata": {},
   "outputs": [
    {
     "data": {
      "text/html": [
       "<div>\n",
       "<style scoped>\n",
       "    .dataframe tbody tr th:only-of-type {\n",
       "        vertical-align: middle;\n",
       "    }\n",
       "\n",
       "    .dataframe tbody tr th {\n",
       "        vertical-align: top;\n",
       "    }\n",
       "\n",
       "    .dataframe thead th {\n",
       "        text-align: right;\n",
       "    }\n",
       "</style>\n",
       "<table border=\"1\" class=\"dataframe\">\n",
       "  <thead>\n",
       "    <tr style=\"text-align: right;\">\n",
       "      <th></th>\n",
       "      <th>order_id</th>\n",
       "      <th>user_id</th>\n",
       "      <th>eval_set</th>\n",
       "      <th>order_number</th>\n",
       "      <th>order_dow</th>\n",
       "      <th>order_hour_of_day</th>\n",
       "      <th>days_since_prior_order</th>\n",
       "    </tr>\n",
       "  </thead>\n",
       "  <tbody>\n",
       "    <tr>\n",
       "      <th>0</th>\n",
       "      <td>2539329</td>\n",
       "      <td>1</td>\n",
       "      <td>prior</td>\n",
       "      <td>1</td>\n",
       "      <td>2</td>\n",
       "      <td>8</td>\n",
       "      <td>0.0</td>\n",
       "    </tr>\n",
       "    <tr>\n",
       "      <th>1</th>\n",
       "      <td>2398795</td>\n",
       "      <td>1</td>\n",
       "      <td>prior</td>\n",
       "      <td>2</td>\n",
       "      <td>3</td>\n",
       "      <td>7</td>\n",
       "      <td>15.0</td>\n",
       "    </tr>\n",
       "    <tr>\n",
       "      <th>2</th>\n",
       "      <td>473747</td>\n",
       "      <td>1</td>\n",
       "      <td>prior</td>\n",
       "      <td>3</td>\n",
       "      <td>3</td>\n",
       "      <td>12</td>\n",
       "      <td>21.0</td>\n",
       "    </tr>\n",
       "    <tr>\n",
       "      <th>3</th>\n",
       "      <td>2254736</td>\n",
       "      <td>1</td>\n",
       "      <td>prior</td>\n",
       "      <td>4</td>\n",
       "      <td>4</td>\n",
       "      <td>7</td>\n",
       "      <td>29.0</td>\n",
       "    </tr>\n",
       "    <tr>\n",
       "      <th>4</th>\n",
       "      <td>431534</td>\n",
       "      <td>1</td>\n",
       "      <td>prior</td>\n",
       "      <td>5</td>\n",
       "      <td>4</td>\n",
       "      <td>15</td>\n",
       "      <td>28.0</td>\n",
       "    </tr>\n",
       "  </tbody>\n",
       "</table>\n",
       "</div>"
      ],
      "text/plain": [
       "   order_id  user_id eval_set  order_number  order_dow  order_hour_of_day  \\\n",
       "0   2539329        1    prior             1          2                  8   \n",
       "1   2398795        1    prior             2          3                  7   \n",
       "2    473747        1    prior             3          3                 12   \n",
       "3   2254736        1    prior             4          4                  7   \n",
       "4    431534        1    prior             5          4                 15   \n",
       "\n",
       "   days_since_prior_order  \n",
       "0                     0.0  \n",
       "1                    15.0  \n",
       "2                    21.0  \n",
       "3                    29.0  \n",
       "4                    28.0  "
      ]
     },
     "execution_count": 25,
     "metadata": {},
     "output_type": "execute_result"
    }
   ],
   "source": [
    "orders.head()"
   ]
  },
  {
   "cell_type": "markdown",
   "metadata": {
    "_uuid": "f80a009da7c6395a6b8fb68cab7bee6cb933e6f1"
   },
   "source": [
    "### User X Product Features"
   ]
  },
  {
   "cell_type": "code",
   "execution_count": 26,
   "metadata": {
    "_uuid": "997a4e8037398ffe2d5b69d407c32407086596e5"
   },
   "outputs": [],
   "source": [
    "#User X Product features\n",
    "orders_products_prior['user_product'] = orders_products_prior.product_id + orders_products_prior.user_id * 100000\n"
   ]
  },
  {
   "cell_type": "code",
   "execution_count": 27,
   "metadata": {
    "_uuid": "4d822aadf1bd8f60b3f5b263618597415b7bb371"
   },
   "outputs": [],
   "source": [
    "userXproduct = orders_products_prior.groupby('user_product').size().astype(np.uint16).reset_index(name = 'nb_counts')\n",
    "a = orders_products_prior.groupby('user_product')['order_id'].max().astype(np.uint16).reset_index(name = 'last_order_id')\n",
    "avg_pos_in_cart = orders_products_prior.groupby('user_product')['add_to_cart_order'].mean().astype(np.float16).reset_index(name = 'mean_pos_in_cart')\n",
    "userXproduct.user_product = userXproduct.user_product.astype(np.uint32)"
   ]
  },
  {
   "cell_type": "code",
   "execution_count": 28,
   "metadata": {
    "_uuid": "95a1645b2d3c756f3eeed4af6d966c1e26eacd88"
   },
   "outputs": [],
   "source": [
    "userXproduct = userXproduct.merge(a, on='user_product')"
   ]
  },
  {
   "cell_type": "code",
   "execution_count": 29,
   "metadata": {
    "_uuid": "0b45aaad08a7f2c896609c9404210baed244fb71"
   },
   "outputs": [
    {
     "data": {
      "text/html": [
       "<div>\n",
       "<style scoped>\n",
       "    .dataframe tbody tr th:only-of-type {\n",
       "        vertical-align: middle;\n",
       "    }\n",
       "\n",
       "    .dataframe tbody tr th {\n",
       "        vertical-align: top;\n",
       "    }\n",
       "\n",
       "    .dataframe thead th {\n",
       "        text-align: right;\n",
       "    }\n",
       "</style>\n",
       "<table border=\"1\" class=\"dataframe\">\n",
       "  <thead>\n",
       "    <tr style=\"text-align: right;\">\n",
       "      <th></th>\n",
       "      <th>user_product</th>\n",
       "      <th>nb_counts</th>\n",
       "      <th>last_order_id</th>\n",
       "      <th>mean_pos_in_cart</th>\n",
       "    </tr>\n",
       "  </thead>\n",
       "  <tbody>\n",
       "    <tr>\n",
       "      <th>0</th>\n",
       "      <td>462</td>\n",
       "      <td>3</td>\n",
       "      <td>1173</td>\n",
       "      <td>7.332031</td>\n",
       "    </tr>\n",
       "    <tr>\n",
       "      <th>1</th>\n",
       "      <td>1077</td>\n",
       "      <td>2</td>\n",
       "      <td>26608</td>\n",
       "      <td>21.000000</td>\n",
       "    </tr>\n",
       "    <tr>\n",
       "      <th>2</th>\n",
       "      <td>2857</td>\n",
       "      <td>2</td>\n",
       "      <td>18199</td>\n",
       "      <td>13.500000</td>\n",
       "    </tr>\n",
       "    <tr>\n",
       "      <th>3</th>\n",
       "      <td>3176</td>\n",
       "      <td>3</td>\n",
       "      <td>10708</td>\n",
       "      <td>14.000000</td>\n",
       "    </tr>\n",
       "    <tr>\n",
       "      <th>4</th>\n",
       "      <td>3210</td>\n",
       "      <td>1</td>\n",
       "      <td>24744</td>\n",
       "      <td>8.000000</td>\n",
       "    </tr>\n",
       "  </tbody>\n",
       "</table>\n",
       "</div>"
      ],
      "text/plain": [
       "   user_product  nb_counts  last_order_id  mean_pos_in_cart\n",
       "0           462          3           1173          7.332031\n",
       "1          1077          2          26608         21.000000\n",
       "2          2857          2          18199         13.500000\n",
       "3          3176          3          10708         14.000000\n",
       "4          3210          1          24744          8.000000"
      ]
     },
     "execution_count": 29,
     "metadata": {},
     "output_type": "execute_result"
    }
   ],
   "source": [
    "userXproduct = userXproduct.merge(avg_pos_in_cart, on='user_product')\n",
    "userXproduct.head()"
   ]
  },
  {
   "cell_type": "code",
   "execution_count": 30,
   "metadata": {
    "_uuid": "6894a55b570abf952c3a5f06c905ae4070935aca"
   },
   "outputs": [],
   "source": [
    "# userXproduct.to_pickle('./Created Datasets/userXproduct')"
   ]
  },
  {
   "cell_type": "code",
   "execution_count": 31,
   "metadata": {
    "_uuid": "51026a4e951006a5a0e51880f473774c90073155"
   },
   "outputs": [],
   "source": [
    "#Train test Split\n",
    "test_orders = orders[orders.eval_set == 'test']\n",
    "train_orders = orders[orders.eval_set == 'train']"
   ]
  },
  {
   "cell_type": "code",
   "execution_count": 32,
   "metadata": {
    "_uuid": "9ff9922afc2a0c098d78540ca3c353b93c8d8653"
   },
   "outputs": [],
   "source": [
    "def create_dummies(df, colname):\n",
    "    col_dummies = pd.get_dummies(df[colname], prefix=colname)\n",
    "    col_dummies.drop(col_dummies.columns[0], axis=1, inplace=True)\n",
    "    df = pd.concat([df, col_dummies], axis=1)\n",
    "    df.drop( colname, axis = 1, inplace = True )\n",
    "    return df"
   ]
  },
  {
   "cell_type": "code",
   "execution_count": 33,
   "metadata": {
    "_uuid": "d925ded9dd00431780608040c4d1d4784ab4d484"
   },
   "outputs": [],
   "source": [
    "orders_products_train_1 = orders_products_train.copy()\n",
    "orders_products_train_1.set_index(['order_id', 'product_id'], inplace=True)"
   ]
  },
  {
   "cell_type": "code",
   "execution_count": 34,
   "metadata": {
    "_uuid": "be4b1670956908d90a91828bd7e93625152c705b"
   },
   "outputs": [],
   "source": [
    "def features(selected_orders, labels_given=False):\n",
    "    print('build candidate list')\n",
    "    order_list = []\n",
    "    product_list = []\n",
    "    labels = []\n",
    "    i=0\n",
    "    for row in selected_orders.itertuples():\n",
    "        i+=1\n",
    "        if i%10000 == 0: print('order row',i)\n",
    "        order_id = row.order_id\n",
    "        user_id = row.user_id\n",
    "        user_products = prior_users.loc[prior_users.user_id == user_id, 'prior_all_products'].values[0]\n",
    "        product_list += user_products\n",
    "        order_list += [order_id] * len(user_products)\n",
    "        if labels_given:\n",
    "            labels += [(order_id, product) in orders_products_train_1.index for product in user_products]\n",
    "    df = pd.DataFrame({'order_id':order_list, 'product_id':product_list}, dtype=np.int32)\n",
    "    if labels_given:\n",
    "         df['y'] = labels            \n",
    "    del order_list\n",
    "    del product_list\n",
    "    \n",
    "    print('user related features')\n",
    "    df['user_id'] = df.order_id.map(orders.user_id).astype(np.uint32)\n",
    "    df = df.merge(prior_users, on = 'user_id').drop('prior_all_products', axis=1)\n",
    "    \n",
    "    \n",
    "    print('order related features')\n",
    "    orders_x = orders[['order_id', 'order_dow','order_hour_of_day', 'days_since_prior_order']]\n",
    "    df = df.merge(orders_x, on = 'order_id')\n",
    "    df['days_since_ratio'] = (df.days_since_prior_order / df.mean_days_between_orders).astype(np.float32)\n",
    "    del orders_x\n",
    "    \n",
    "    print('product related features')\n",
    "    prior_products_x = prior_products[['product_id', 'aisle_id', 'department_id',\n",
    "       'prior_orders', 'prior_reorders', 'prior_reorder_rate',\n",
    "       'is_gluten_free', 'is_organic', 'is_low_fat', 'prior_avg_add_to_cart']]\n",
    "    df = df.merge(prior_products_x, on='product_id')\n",
    "    del prior_products_x\n",
    "\n",
    "   \n",
    "    print('user_X_product related features')\n",
    "    df['user_product'] = df.product_id + df.user_id * 100000\n",
    "    #df = df.merge(userXproduct, on='user_product')\n",
    "    df['UP_orders'] = df.user_product.map(userXproduct.nb_counts)\n",
    "    df['UP_last_order_id'] = df.user_product.map(userXproduct.last_order_id)\n",
    "    df['UP_mean_pos_in_cart'] = df.user_product.map(userXproduct.mean_pos_in_cart)\n",
    "    #df = df.rename(columns = {'nb_counts' : 'UP_orders', 'last_order_id': 'UP_last_order_id', 'mean_pos_in_cart': 'UP_mean_pos_in_cart'})\n",
    "    df['UP_orders_ratio'] = (df.UP_orders / df.number_of_orders).astype(np.float16)\n",
    "    df['UP_reorder_rate'] = (df.UP_orders / df.number_of_orders).astype(np.float16)\n",
    "    df['UP_orders_since_last'] = df.number_of_orders - df.UP_last_order_id.map(orders.order_number)\n",
    "    df.drop(['UP_last_order_id', 'user_product', 'user_id'], axis=1, inplace=True)\n",
    "    \n",
    "    print('Dummy Variables')\n",
    "    df = create_dummies(df, 'order_dow')\n",
    "    df = create_dummies(df, 'order_hour_of_day')\n",
    "    \n",
    "    df = df.replace([np.inf, -np.inf], np.nan)\n",
    "    df = df.fillna(-1)\n",
    "    \n",
    "    return (df, labels)\n",
    "\n",
    "def top_features(df):\n",
    "    targ_pre_product = 'is_product_'\n",
    "    targ_pre_department = 'is_department_'\n",
    "    targ_pre_aisle = 'is_aisle_'\n",
    "\n",
    "    print('Top 100 Products')\n",
    "    for product in top_100_reordered_products_list:\n",
    "        df[targ_pre_product + str(product)] = df.product_id == product\n",
    "    print('Top 10 Departments')\n",
    "    for department in top_10_reordered_departments_list:\n",
    "        df[targ_pre_department+ str(department)] = df.department_id == department\n",
    "    print('Top 30 Aisles')\n",
    "    for aisle in top_30_reordered_aisles_list:\n",
    "        df[targ_pre_aisle+ str(aisle)] = df.aisle_id == aisle\n",
    "    is_columns = df.columns[df.columns.str.contains('is_')]\n",
    "    df[is_columns] = df[is_columns].astype(np.uint8)\n",
    "    \n",
    "\n",
    "    del targ_pre_product\n",
    "    del targ_pre_department\n",
    "    del targ_pre_aisle\n",
    "    del is_columns\n",
    "    return df\n",
    "\n",
    "    "
   ]
  },
  {
   "cell_type": "code",
   "execution_count": 36,
   "metadata": {
    "_uuid": "cbc7298a6edaeb446f29e87fc843b0782d1813d3",
    "scrolled": false
   },
   "outputs": [
    {
     "name": "stdout",
     "output_type": "stream",
     "text": [
      "build candidate list\n",
      "order row 10000\n",
      "order row 20000\n",
      "order row 30000\n",
      "order row 40000\n",
      "order row 50000\n",
      "order row 60000\n",
      "order row 70000\n",
      "order row 80000\n",
      "order row 90000\n",
      "order row 100000\n",
      "order row 110000\n",
      "order row 120000\n",
      "order row 130000\n",
      "user related features\n",
      "order related features\n",
      "product related features\n",
      "user_X_product related features\n",
      "Dummy Variables\n"
     ]
    }
   ],
   "source": [
    "df_train, labels = features(train_orders, labels_given=True)"
   ]
  },
  {
   "cell_type": "code",
   "execution_count": 36,
   "metadata": {},
   "outputs": [
    {
     "name": "stdout",
     "output_type": "stream",
     "text": [
      "Top 100 Products\n",
      "Top 10 Departments\n",
      "Top 30 Aisles\n"
     ]
    }
   ],
   "source": [
    "# df_train = top_features(df_train)"
   ]
  },
  {
   "cell_type": "code",
   "execution_count": 37,
   "metadata": {},
   "outputs": [],
   "source": [
    "for column, data in df_train.items():\n",
    "    if np.issubdtype(df_train[column], np.int64):\n",
    "        df_train[column] = df_train[column].astype(np.uint32)\n",
    "    elif np.issubdtype(df_train[column], np.float64):\n",
    "        df_train[column] = df_train[column].astype(np.float32)"
   ]
  },
  {
   "cell_type": "code",
   "execution_count": 38,
   "metadata": {},
   "outputs": [],
   "source": [
    "df_train.to_pickle('./Created Datasets/df_train')"
   ]
  },
  {
   "cell_type": "code",
   "execution_count": 44,
   "metadata": {},
   "outputs": [],
   "source": [
    "for column, data in df_test.items():\n",
    "    if np.issubdtype(df_test[column], np.int64):\n",
    "        df_test[column] = df_test[column].astype(np.uint32)\n",
    "    elif np.issubdtype(df_test[column], np.float64):\n",
    "        df_test[column] = df_test[column].astype(np.float32)"
   ]
  },
  {
   "cell_type": "code",
   "execution_count": 45,
   "metadata": {},
   "outputs": [],
   "source": [
    "df_test.to_pickle('./Created Datasets/df_test')"
   ]
  },
  {
   "cell_type": "code",
   "execution_count": 41,
   "metadata": {},
   "outputs": [
    {
     "data": {
      "text/plain": [
       "order_id                         int64\n",
       "product_id                       int64\n",
       "y                                 bool\n",
       "prior_total_items                int64\n",
       "total_distinct_products          int64\n",
       "mean_days_between_orders       float32\n",
       "number_of_orders                 int64\n",
       "average_products_per_basket    float32\n",
       "days_since_prior_order         float64\n",
       "days_since_ratio               float32\n",
       "aisle_id                         int64\n",
       "department_id                    int64\n",
       "prior_orders                   float64\n",
       "prior_reorders                 float32\n",
       "prior_reorder_rate             float32\n",
       "is_gluten_free                   uint8\n",
       "is_organic                       uint8\n",
       "is_low_fat                       uint8\n",
       "prior_avg_add_to_cart          float32\n",
       "UP_orders                      float64\n",
       "UP_mean_pos_in_cart            float16\n",
       "UP_orders_ratio                float16\n",
       "UP_reorder_rate                float16\n",
       "UP_orders_since_last           float64\n",
       "order_dow_1                      int64\n",
       "order_dow_2                      int64\n",
       "order_dow_3                      int64\n",
       "order_dow_4                      int64\n",
       "order_dow_5                      int64\n",
       "order_dow_6                      int64\n",
       "                                ...   \n",
       "is_aisle_24                      uint8\n",
       "is_aisle_83                      uint8\n",
       "is_aisle_123                     uint8\n",
       "is_aisle_120                     uint8\n",
       "is_aisle_84                      uint8\n",
       "is_aisle_115                     uint8\n",
       "is_aisle_21                      uint8\n",
       "is_aisle_91                      uint8\n",
       "is_aisle_107                     uint8\n",
       "is_aisle_112                     uint8\n",
       "is_aisle_31                      uint8\n",
       "is_aisle_86                      uint8\n",
       "is_aisle_116                     uint8\n",
       "is_aisle_3                       uint8\n",
       "is_aisle_78                      uint8\n",
       "is_aisle_37                      uint8\n",
       "is_aisle_96                      uint8\n",
       "is_aisle_77                      uint8\n",
       "is_aisle_92                      uint8\n",
       "is_aisle_53                      uint8\n",
       "is_aisle_38                      uint8\n",
       "is_aisle_67                      uint8\n",
       "is_aisle_121                     uint8\n",
       "is_aisle_98                      uint8\n",
       "is_aisle_16                      uint8\n",
       "is_aisle_32                      uint8\n",
       "is_aisle_108                     uint8\n",
       "is_aisle_45                      uint8\n",
       "is_aisle_106                     uint8\n",
       "is_aisle_93                      uint8\n",
       "Length: 193, dtype: object"
      ]
     },
     "execution_count": 41,
     "metadata": {},
     "output_type": "execute_result"
    }
   ],
   "source": [
    "df_train.dtypes"
   ]
  },
  {
   "cell_type": "code",
   "execution_count": null,
   "metadata": {},
   "outputs": [],
   "source": []
  }
 ],
 "metadata": {
  "kernelspec": {
   "display_name": "Python 3",
   "language": "python",
   "name": "python3"
  },
  "language_info": {
   "codemirror_mode": {
    "name": "ipython",
    "version": 3
   },
   "file_extension": ".py",
   "mimetype": "text/x-python",
   "name": "python",
   "nbconvert_exporter": "python",
   "pygments_lexer": "ipython3",
   "version": "3.7.0"
  }
 },
 "nbformat": 4,
 "nbformat_minor": 1
}
