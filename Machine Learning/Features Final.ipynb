{
  "cells": [
    {
      "metadata": {
        "_uuid": "8f2839f25d086af736a60e9eeb907d3b93b6e0e5",
        "_cell_guid": "b1076dfc-b9ad-4769-8c92-a6c4dae69d19",
        "trusted": true
      },
      "cell_type": "code",
      "source": "#importing required libraries\nimport pandas as pd\nimport numpy as np\nimport glob\nfrom scipy import stats\nimport matplotlib.pyplot as plt\nimport seaborn as sns",
      "execution_count": 1,
      "outputs": []
    },
    {
      "metadata": {
        "_cell_guid": "79c7e3d0-c299-4dcb-8224-4455121ee9b0",
        "_uuid": "d629ff2d2480ee46fbb7e2d37f6b5fab8052498a",
        "trusted": true
      },
      "cell_type": "code",
      "source": "import os\nos.getcwd()",
      "execution_count": 2,
      "outputs": [
        {
          "output_type": "execute_result",
          "execution_count": 2,
          "data": {
            "text/plain": "'/kaggle/working'"
          },
          "metadata": {}
        }
      ]
    },
    {
      "metadata": {
        "trusted": true,
        "_uuid": "ff4366a55bac2bbb34af70b88622b387f8c0c466"
      },
      "cell_type": "code",
      "source": "os.chdir(\"../input\")\n#Finding the list of files to uplod\npattern = '*.csv'\ncsv_files = glob.glob(pattern)\nprint(csv_files)",
      "execution_count": 3,
      "outputs": [
        {
          "output_type": "stream",
          "text": "['orders.csv', 'departments.csv', 'products.csv', 'order_products__train.csv', 'order_products__prior.csv', 'aisles.csv']\n",
          "name": "stdout"
        }
      ]
    },
    {
      "metadata": {
        "trusted": true,
        "_uuid": "01307455e7a5268157ff12f75c8018637072a70d"
      },
      "cell_type": "code",
      "source": "#uploading files\naisles = pd.read_csv(\"aisles.csv\", dtype={'aisle_id': np.uint8, 'aisle': 'category'})\ndepartments = pd.read_csv(\"departments.csv\", dtype={'department_id': np.uint8, 'department': 'category'})\norders = pd.read_csv(\"orders.csv\", dtype = {'order_id': np.uint32,\n                                            'user_id': np.uint32,\n                                            'eval_set': 'category',\n                                            'order_number': np.uint8,\n                                            'order_dow': np.uint8,\n                                            'order_hour_of_day': np.uint8})\norders_products_prior = pd.read_csv(\"order_products__prior.csv\", dtype={'order_id': np.uint32,\n                                                                        'product_id': np.uint16,\n                                                                        'add_to_cart_order': np.uint8,\n                                                                        'reordered': bool})\norders_products_train = pd.read_csv(\"order_products__train.csv\", dtype={'order_id': np.uint32,\n                                                                        'product_id': np.uint16,\n                                                                        'add_to_cart_order': np.uint8,\n                                                                        'reordered': bool})\nproducts = pd.read_csv(\"products.csv\", dtype={'product_id': np.uint16,\n                                              'aisle_id': np.uint8,\n                                              'department_id': np.uint8})",
      "execution_count": 4,
      "outputs": []
    },
    {
      "metadata": {
        "trusted": true,
        "_uuid": "700df2df4436a8a9cfe5ff49733033844ef5339e"
      },
      "cell_type": "code",
      "source": "data_list = [aisles, departments, orders, \n             orders_products_prior, orders_products_train, products]\ndata_list_name = ['aisles', 'departments', 'orders', \n'orders_products_prior', 'orders_products_train', 'products']\n\nj=0\nfor i in data_list:\n    i.name = data_list_name[j]\n    j += 1",
      "execution_count": 5,
      "outputs": []
    },
    {
      "metadata": {
        "trusted": true,
        "_uuid": "d5575be59b74fcc6387f0e5600b0f5ffa52cca55"
      },
      "cell_type": "code",
      "source": "#Checking for null values\n#Creating a function to find null values\ndef null_columns(x):\n    y = x.columns[x.isnull().any()]\n    return y",
      "execution_count": 6,
      "outputs": []
    },
    {
      "metadata": {
        "trusted": true,
        "_uuid": "6e953e83c513ac8f6e8d41e3b4062cb400baa7e2"
      },
      "cell_type": "code",
      "source": "for dataset in data_list:\n    if len(null_columns(dataset)) == 0:\n        print('Dataset ' + dataset.name + ' has no null values ')\n    else:\n        print('Dataset '+ dataset.name + ' has null values in column '+ str([i for i in null_columns(dataset)]))",
      "execution_count": 7,
      "outputs": [
        {
          "output_type": "stream",
          "text": "Dataset aisles has no null values \nDataset departments has no null values \nDataset orders has null values in column ['days_since_prior_order']\nDataset orders_products_prior has no null values \nDataset orders_products_train has no null values \nDataset products has no null values \n",
          "name": "stdout"
        }
      ]
    },
    {
      "metadata": {
        "trusted": true,
        "_uuid": "c1f417811ecda4f91f1b81bcd190a4224b004640"
      },
      "cell_type": "code",
      "source": "#Dataset orders has null values in column ['days_since_prior_order'] \n# Other Columns have no null values\n#Finding the number of null values in orders.days_since_prior_order\nsum(orders.days_since_prior_order.isnull())",
      "execution_count": 8,
      "outputs": [
        {
          "output_type": "execute_result",
          "execution_count": 8,
          "data": {
            "text/plain": "206209"
          },
          "metadata": {}
        }
      ]
    },
    {
      "metadata": {
        "trusted": true,
        "_uuid": "1be52bda705737a0777efe6cc1e253efad721f20"
      },
      "cell_type": "code",
      "source": "#There are 206209 null values\n#Lets examine the null values\norders.loc[orders.days_since_prior_order.isnull()==True,['user_id', 'order_number']]",
      "execution_count": 9,
      "outputs": [
        {
          "output_type": "execute_result",
          "execution_count": 9,
          "data": {
            "text/plain": "         user_id  order_number\n0              1             1\n11             2             1\n26             3             1\n39             4             1\n45             5             1\n50             6             1\n54             7             1\n75             8             1\n79             9             1\n83            10             1\n89            11             1\n97            12             1\n103           13             1\n116           14             1\n130           15             1\n153           16             1\n160           17             1\n201           18             1\n208           19             1\n218           20             1\n223           21             1\n257           22             1\n273           23             1\n278           24             1\n297           25             1\n301           26             1\n314           27             1\n396           28             1\n421           29             1\n440           30             1\n...          ...           ...\n3420548   206180             1\n3420567   206181             1\n3420582   206182             1\n3420593   206183             1\n3420608   206184             1\n3420613   206185             1\n3420624   206186             1\n3420628   206187             1\n3420663   206188             1\n3420671   206189             1\n3420678   206190             1\n3420687   206191             1\n3420693   206192             1\n3420708   206193             1\n3420750   206194             1\n3420762   206195             1\n3420782   206196             1\n3420787   206197             1\n3420811   206198             1\n3420819   206199             1\n3420839   206200             1\n3420863   206201             1\n3420896   206202             1\n3420919   206203             1\n3420925   206204             1\n3420930   206205             1\n3420934   206206             1\n3421002   206207             1\n3421019   206208             1\n3421069   206209             1\n\n[206209 rows x 2 columns]",
            "text/html": "<div>\n<style scoped>\n    .dataframe tbody tr th:only-of-type {\n        vertical-align: middle;\n    }\n\n    .dataframe tbody tr th {\n        vertical-align: top;\n    }\n\n    .dataframe thead th {\n        text-align: right;\n    }\n</style>\n<table border=\"1\" class=\"dataframe\">\n  <thead>\n    <tr style=\"text-align: right;\">\n      <th></th>\n      <th>user_id</th>\n      <th>order_number</th>\n    </tr>\n  </thead>\n  <tbody>\n    <tr>\n      <th>0</th>\n      <td>1</td>\n      <td>1</td>\n    </tr>\n    <tr>\n      <th>11</th>\n      <td>2</td>\n      <td>1</td>\n    </tr>\n    <tr>\n      <th>26</th>\n      <td>3</td>\n      <td>1</td>\n    </tr>\n    <tr>\n      <th>39</th>\n      <td>4</td>\n      <td>1</td>\n    </tr>\n    <tr>\n      <th>45</th>\n      <td>5</td>\n      <td>1</td>\n    </tr>\n    <tr>\n      <th>50</th>\n      <td>6</td>\n      <td>1</td>\n    </tr>\n    <tr>\n      <th>54</th>\n      <td>7</td>\n      <td>1</td>\n    </tr>\n    <tr>\n      <th>75</th>\n      <td>8</td>\n      <td>1</td>\n    </tr>\n    <tr>\n      <th>79</th>\n      <td>9</td>\n      <td>1</td>\n    </tr>\n    <tr>\n      <th>83</th>\n      <td>10</td>\n      <td>1</td>\n    </tr>\n    <tr>\n      <th>89</th>\n      <td>11</td>\n      <td>1</td>\n    </tr>\n    <tr>\n      <th>97</th>\n      <td>12</td>\n      <td>1</td>\n    </tr>\n    <tr>\n      <th>103</th>\n      <td>13</td>\n      <td>1</td>\n    </tr>\n    <tr>\n      <th>116</th>\n      <td>14</td>\n      <td>1</td>\n    </tr>\n    <tr>\n      <th>130</th>\n      <td>15</td>\n      <td>1</td>\n    </tr>\n    <tr>\n      <th>153</th>\n      <td>16</td>\n      <td>1</td>\n    </tr>\n    <tr>\n      <th>160</th>\n      <td>17</td>\n      <td>1</td>\n    </tr>\n    <tr>\n      <th>201</th>\n      <td>18</td>\n      <td>1</td>\n    </tr>\n    <tr>\n      <th>208</th>\n      <td>19</td>\n      <td>1</td>\n    </tr>\n    <tr>\n      <th>218</th>\n      <td>20</td>\n      <td>1</td>\n    </tr>\n    <tr>\n      <th>223</th>\n      <td>21</td>\n      <td>1</td>\n    </tr>\n    <tr>\n      <th>257</th>\n      <td>22</td>\n      <td>1</td>\n    </tr>\n    <tr>\n      <th>273</th>\n      <td>23</td>\n      <td>1</td>\n    </tr>\n    <tr>\n      <th>278</th>\n      <td>24</td>\n      <td>1</td>\n    </tr>\n    <tr>\n      <th>297</th>\n      <td>25</td>\n      <td>1</td>\n    </tr>\n    <tr>\n      <th>301</th>\n      <td>26</td>\n      <td>1</td>\n    </tr>\n    <tr>\n      <th>314</th>\n      <td>27</td>\n      <td>1</td>\n    </tr>\n    <tr>\n      <th>396</th>\n      <td>28</td>\n      <td>1</td>\n    </tr>\n    <tr>\n      <th>421</th>\n      <td>29</td>\n      <td>1</td>\n    </tr>\n    <tr>\n      <th>440</th>\n      <td>30</td>\n      <td>1</td>\n    </tr>\n    <tr>\n      <th>...</th>\n      <td>...</td>\n      <td>...</td>\n    </tr>\n    <tr>\n      <th>3420548</th>\n      <td>206180</td>\n      <td>1</td>\n    </tr>\n    <tr>\n      <th>3420567</th>\n      <td>206181</td>\n      <td>1</td>\n    </tr>\n    <tr>\n      <th>3420582</th>\n      <td>206182</td>\n      <td>1</td>\n    </tr>\n    <tr>\n      <th>3420593</th>\n      <td>206183</td>\n      <td>1</td>\n    </tr>\n    <tr>\n      <th>3420608</th>\n      <td>206184</td>\n      <td>1</td>\n    </tr>\n    <tr>\n      <th>3420613</th>\n      <td>206185</td>\n      <td>1</td>\n    </tr>\n    <tr>\n      <th>3420624</th>\n      <td>206186</td>\n      <td>1</td>\n    </tr>\n    <tr>\n      <th>3420628</th>\n      <td>206187</td>\n      <td>1</td>\n    </tr>\n    <tr>\n      <th>3420663</th>\n      <td>206188</td>\n      <td>1</td>\n    </tr>\n    <tr>\n      <th>3420671</th>\n      <td>206189</td>\n      <td>1</td>\n    </tr>\n    <tr>\n      <th>3420678</th>\n      <td>206190</td>\n      <td>1</td>\n    </tr>\n    <tr>\n      <th>3420687</th>\n      <td>206191</td>\n      <td>1</td>\n    </tr>\n    <tr>\n      <th>3420693</th>\n      <td>206192</td>\n      <td>1</td>\n    </tr>\n    <tr>\n      <th>3420708</th>\n      <td>206193</td>\n      <td>1</td>\n    </tr>\n    <tr>\n      <th>3420750</th>\n      <td>206194</td>\n      <td>1</td>\n    </tr>\n    <tr>\n      <th>3420762</th>\n      <td>206195</td>\n      <td>1</td>\n    </tr>\n    <tr>\n      <th>3420782</th>\n      <td>206196</td>\n      <td>1</td>\n    </tr>\n    <tr>\n      <th>3420787</th>\n      <td>206197</td>\n      <td>1</td>\n    </tr>\n    <tr>\n      <th>3420811</th>\n      <td>206198</td>\n      <td>1</td>\n    </tr>\n    <tr>\n      <th>3420819</th>\n      <td>206199</td>\n      <td>1</td>\n    </tr>\n    <tr>\n      <th>3420839</th>\n      <td>206200</td>\n      <td>1</td>\n    </tr>\n    <tr>\n      <th>3420863</th>\n      <td>206201</td>\n      <td>1</td>\n    </tr>\n    <tr>\n      <th>3420896</th>\n      <td>206202</td>\n      <td>1</td>\n    </tr>\n    <tr>\n      <th>3420919</th>\n      <td>206203</td>\n      <td>1</td>\n    </tr>\n    <tr>\n      <th>3420925</th>\n      <td>206204</td>\n      <td>1</td>\n    </tr>\n    <tr>\n      <th>3420930</th>\n      <td>206205</td>\n      <td>1</td>\n    </tr>\n    <tr>\n      <th>3420934</th>\n      <td>206206</td>\n      <td>1</td>\n    </tr>\n    <tr>\n      <th>3421002</th>\n      <td>206207</td>\n      <td>1</td>\n    </tr>\n    <tr>\n      <th>3421019</th>\n      <td>206208</td>\n      <td>1</td>\n    </tr>\n    <tr>\n      <th>3421069</th>\n      <td>206209</td>\n      <td>1</td>\n    </tr>\n  </tbody>\n</table>\n<p>206209 rows × 2 columns</p>\n</div>"
          },
          "metadata": {}
        }
      ]
    },
    {
      "metadata": {
        "trusted": true,
        "_uuid": "c513783a57b3b9a458ada2b31bc24518e736a9de"
      },
      "cell_type": "code",
      "source": "#days_since_prior_order attribue for first order for all the users is null so it can be changed to 0\n\norders.days_since_prior_order = orders.days_since_prior_order.fillna(int(0))",
      "execution_count": 10,
      "outputs": []
    },
    {
      "metadata": {
        "_uuid": "e79f3ef77448ccc461c98dfdf839a9ca151b1b84"
      },
      "cell_type": "markdown",
      "source": "## Feature Engineering"
    },
    {
      "metadata": {
        "trusted": true,
        "_uuid": "be142d72a2a25da73ad2c202774befdaeba89972"
      },
      "cell_type": "code",
      "source": "prior_prods = pd.DataFrame()\nprior_prods['prior_orders'] = orders_products_prior.groupby(orders_products_prior.product_id).size().astype(np.int32)\nprior_prods['prior_reorders'] = orders_products_prior['reordered'].groupby(orders_products_prior.product_id).sum().astype(np.float32)\nprior_prods['prior_reorder_rate'] = (prior_prods.prior_reorders / prior_prods.prior_orders).astype(np.float32)\nprior_products = products.join(prior_prods, on='product_id')",
      "execution_count": 11,
      "outputs": []
    },
    {
      "metadata": {
        "trusted": true,
        "_uuid": "7047117a4973b93c7369b9ce11725eca40e64733"
      },
      "cell_type": "code",
      "source": "prior_products['is_gluten_free'] = prior_products['product_name'].str.contains('gluten' and 'free').astype(np.uint8)\nprior_products['is_organic'] = prior_products['product_name'].str.contains('organic' or 'Organic').astype(np.uint8)\nprior_products['is_low_fat'] = prior_products['product_name'].str.contains('low' and 'fat').astype(np.uint8)",
      "execution_count": 12,
      "outputs": []
    },
    {
      "metadata": {
        "trusted": true,
        "_uuid": "3d90859b32de8403c05202e2cdbc32c54261bc31"
      },
      "cell_type": "code",
      "source": "prior_avg_add_to_cart = orders_products_prior.groupby('product_id')['add_to_cart_order'].mean().to_frame('prior_avg_add_to_cart').astype(np.float32).reset_index()",
      "execution_count": 13,
      "outputs": []
    },
    {
      "metadata": {
        "trusted": true,
        "_uuid": "beb125af6ba359368811953f8d5f349256854abf"
      },
      "cell_type": "code",
      "source": "prior_products = prior_products.merge(prior_avg_add_to_cart, how='left', left_on='product_id', right_on='product_id')\nprior_products = prior_products.replace([np.inf, -np.inf], np.nan)\nprior_products = prior_products.fillna(0)",
      "execution_count": 14,
      "outputs": []
    },
    {
      "metadata": {
        "trusted": true,
        "_uuid": "9633c42eb830d2857493b9ac8f40c5286f6f8c18"
      },
      "cell_type": "code",
      "source": "# mean order hour and day for all the products\nord_plus_orderprior = orders_products_prior.merge(orders, how='left', on='order_id')\nord_days = ord_plus_orderprior.groupby('product_id')['order_dow'].mean().to_frame('product_avg_orderdow').astype(np.float32).reset_index()\nord_days = ord_days.merge(ord_plus_orderprior.groupby\n               ('product_id')['order_hour_of_day'].mean().to_frame\n               ('product_avg_orderhour').astype(np.float32).reset_index(), on = 'product_id')\nprior_products = prior_products.merge(ord_days, how = 'left', on='product_id')",
      "execution_count": 15,
      "outputs": []
    },
    {
      "metadata": {
        "trusted": true,
        "_uuid": "a12f52ad81b147c2c8b755febc0d7bc9cac68bbe"
      },
      "cell_type": "code",
      "source": "#Top_100_reordered_products_prior\ntop_100_reordered_products = pd.DataFrame(orders_products_prior.loc[orders_products_prior.reordered == \n                                                       True].groupby('product_id').size().sort_values(ascending=False).head(100).reset_index(name='counts'))\ntop_100_reordered_products_list = list(top_100_reordered_products.product_id)\nis_top_100_reordered = []\nfor i in prior_products.product_id:\n    is_top_100_reordered += [i in top_100_reordered_products_list]\nprior_products['is_top_100_reordered'] = is_top_100_reordered\nprior_products['is_top_100_reordered'] = prior_products['is_top_100_reordered'].astype(np.uint8)",
      "execution_count": 16,
      "outputs": []
    },
    {
      "metadata": {
        "trusted": true,
        "_uuid": "71e260cfd337a490ed26cb1af5b4aed4a26a3a34"
      },
      "cell_type": "code",
      "source": "prior_products.head().T",
      "execution_count": 17,
      "outputs": [
        {
          "output_type": "execute_result",
          "execution_count": 17,
          "data": {
            "text/plain": "                                                0            ...                                      4\nproduct_id                                      1            ...                                      5\nproduct_name           Chocolate Sandwich Cookies            ...              Green Chile Anytime Sauce\naisle_id                                       61            ...                                      5\ndepartment_id                                  19            ...                                     13\nprior_orders                                 1852            ...                                     15\nprior_reorders                               1136            ...                                      9\nprior_reorder_rate                       0.613391            ...                                    0.6\nis_gluten_free                                  0            ...                                      0\nis_organic                                      0            ...                                      0\nis_low_fat                                      0            ...                                      0\nprior_avg_add_to_cart                     5.80184            ...                                6.46667\nproduct_avg_orderdow                      2.77646            ...                                2.73333\nproduct_avg_orderhour                     13.2381            ...                                10.6667\nis_top_100_reordered                            0            ...                                      0\n\n[14 rows x 5 columns]",
            "text/html": "<div>\n<style scoped>\n    .dataframe tbody tr th:only-of-type {\n        vertical-align: middle;\n    }\n\n    .dataframe tbody tr th {\n        vertical-align: top;\n    }\n\n    .dataframe thead th {\n        text-align: right;\n    }\n</style>\n<table border=\"1\" class=\"dataframe\">\n  <thead>\n    <tr style=\"text-align: right;\">\n      <th></th>\n      <th>0</th>\n      <th>1</th>\n      <th>2</th>\n      <th>3</th>\n      <th>4</th>\n    </tr>\n  </thead>\n  <tbody>\n    <tr>\n      <th>product_id</th>\n      <td>1</td>\n      <td>2</td>\n      <td>3</td>\n      <td>4</td>\n      <td>5</td>\n    </tr>\n    <tr>\n      <th>product_name</th>\n      <td>Chocolate Sandwich Cookies</td>\n      <td>All-Seasons Salt</td>\n      <td>Robust Golden Unsweetened Oolong Tea</td>\n      <td>Smart Ones Classic Favorites Mini Rigatoni Wit...</td>\n      <td>Green Chile Anytime Sauce</td>\n    </tr>\n    <tr>\n      <th>aisle_id</th>\n      <td>61</td>\n      <td>104</td>\n      <td>94</td>\n      <td>38</td>\n      <td>5</td>\n    </tr>\n    <tr>\n      <th>department_id</th>\n      <td>19</td>\n      <td>13</td>\n      <td>7</td>\n      <td>1</td>\n      <td>13</td>\n    </tr>\n    <tr>\n      <th>prior_orders</th>\n      <td>1852</td>\n      <td>90</td>\n      <td>277</td>\n      <td>329</td>\n      <td>15</td>\n    </tr>\n    <tr>\n      <th>prior_reorders</th>\n      <td>1136</td>\n      <td>12</td>\n      <td>203</td>\n      <td>147</td>\n      <td>9</td>\n    </tr>\n    <tr>\n      <th>prior_reorder_rate</th>\n      <td>0.613391</td>\n      <td>0.133333</td>\n      <td>0.732852</td>\n      <td>0.446809</td>\n      <td>0.6</td>\n    </tr>\n    <tr>\n      <th>is_gluten_free</th>\n      <td>0</td>\n      <td>0</td>\n      <td>0</td>\n      <td>0</td>\n      <td>0</td>\n    </tr>\n    <tr>\n      <th>is_organic</th>\n      <td>0</td>\n      <td>0</td>\n      <td>0</td>\n      <td>0</td>\n      <td>0</td>\n    </tr>\n    <tr>\n      <th>is_low_fat</th>\n      <td>0</td>\n      <td>0</td>\n      <td>0</td>\n      <td>0</td>\n      <td>0</td>\n    </tr>\n    <tr>\n      <th>prior_avg_add_to_cart</th>\n      <td>5.80184</td>\n      <td>9.88889</td>\n      <td>6.41516</td>\n      <td>9.5076</td>\n      <td>6.46667</td>\n    </tr>\n    <tr>\n      <th>product_avg_orderdow</th>\n      <td>2.77646</td>\n      <td>2.92222</td>\n      <td>2.73646</td>\n      <td>2.68389</td>\n      <td>2.73333</td>\n    </tr>\n    <tr>\n      <th>product_avg_orderhour</th>\n      <td>13.2381</td>\n      <td>13.2778</td>\n      <td>12.1047</td>\n      <td>13.7143</td>\n      <td>10.6667</td>\n    </tr>\n    <tr>\n      <th>is_top_100_reordered</th>\n      <td>0</td>\n      <td>0</td>\n      <td>0</td>\n      <td>0</td>\n      <td>0</td>\n    </tr>\n  </tbody>\n</table>\n</div>"
          },
          "metadata": {}
        }
      ]
    },
    {
      "metadata": {
        "trusted": true,
        "_uuid": "a45d5f545af7c5ee0fc09cf328d9634099f2f303"
      },
      "cell_type": "code",
      "source": "#Merging with products\norders_products_prior = orders_products_prior.merge(products, on='product_id')\norders_products_prior.head()",
      "execution_count": 18,
      "outputs": [
        {
          "output_type": "execute_result",
          "execution_count": 18,
          "data": {
            "text/plain": "   order_id  product_id      ...        aisle_id  department_id\n0         2       33120      ...              86             16\n1        26       33120      ...              86             16\n2       120       33120      ...              86             16\n3       327       33120      ...              86             16\n4       390       33120      ...              86             16\n\n[5 rows x 7 columns]",
            "text/html": "<div>\n<style scoped>\n    .dataframe tbody tr th:only-of-type {\n        vertical-align: middle;\n    }\n\n    .dataframe tbody tr th {\n        vertical-align: top;\n    }\n\n    .dataframe thead th {\n        text-align: right;\n    }\n</style>\n<table border=\"1\" class=\"dataframe\">\n  <thead>\n    <tr style=\"text-align: right;\">\n      <th></th>\n      <th>order_id</th>\n      <th>product_id</th>\n      <th>add_to_cart_order</th>\n      <th>reordered</th>\n      <th>product_name</th>\n      <th>aisle_id</th>\n      <th>department_id</th>\n    </tr>\n  </thead>\n  <tbody>\n    <tr>\n      <th>0</th>\n      <td>2</td>\n      <td>33120</td>\n      <td>1</td>\n      <td>True</td>\n      <td>Organic Egg Whites</td>\n      <td>86</td>\n      <td>16</td>\n    </tr>\n    <tr>\n      <th>1</th>\n      <td>26</td>\n      <td>33120</td>\n      <td>5</td>\n      <td>False</td>\n      <td>Organic Egg Whites</td>\n      <td>86</td>\n      <td>16</td>\n    </tr>\n    <tr>\n      <th>2</th>\n      <td>120</td>\n      <td>33120</td>\n      <td>13</td>\n      <td>False</td>\n      <td>Organic Egg Whites</td>\n      <td>86</td>\n      <td>16</td>\n    </tr>\n    <tr>\n      <th>3</th>\n      <td>327</td>\n      <td>33120</td>\n      <td>5</td>\n      <td>True</td>\n      <td>Organic Egg Whites</td>\n      <td>86</td>\n      <td>16</td>\n    </tr>\n    <tr>\n      <th>4</th>\n      <td>390</td>\n      <td>33120</td>\n      <td>28</td>\n      <td>True</td>\n      <td>Organic Egg Whites</td>\n      <td>86</td>\n      <td>16</td>\n    </tr>\n  </tbody>\n</table>\n</div>"
          },
          "metadata": {}
        }
      ]
    },
    {
      "metadata": {
        "trusted": true,
        "_uuid": "0ea16b03181e5769763b5eb5d30c671a426a0d55"
      },
      "cell_type": "code",
      "source": "#Top_30_reordered_aisle_prior\ntop_30_reordered_aisles = pd.DataFrame(orders_products_prior.loc[orders_products_prior.reordered ==\n                                                                 True].groupby('aisle_id').size().sort_values(ascending=False).head(30).reset_index(name='counts'))\ntop_30_reordered_aisles_list = list(top_30_reordered_aisles.aisle_id)\n\n#Top_10_reordered_deparments_prior\ntop_10_reordered_department = pd.DataFrame(orders_products_prior.loc[orders_products_prior.reordered == \n                                                       True].groupby('department_id').size().sort_values(ascending=False).head(10).reset_index(name='counts'))\ntop_10_reordered_departments_list = list(top_10_reordered_department.department_id)",
      "execution_count": 19,
      "outputs": []
    },
    {
      "metadata": {
        "trusted": true,
        "_uuid": "924b38eb35115b38526c31f5b1c5ba2d8a2bc52a"
      },
      "cell_type": "code",
      "source": "#Merging with products\n#Adding Order info to prior orders\norders_products_prior = orders_products_prior.merge(orders, on='order_id')\norders_products_prior.head()",
      "execution_count": 20,
      "outputs": [
        {
          "output_type": "execute_result",
          "execution_count": 20,
          "data": {
            "text/plain": "   order_id           ...            days_since_prior_order\n0         2           ...                               8.0\n1         2           ...                               8.0\n2         2           ...                               8.0\n3         2           ...                               8.0\n4         2           ...                               8.0\n\n[5 rows x 13 columns]",
            "text/html": "<div>\n<style scoped>\n    .dataframe tbody tr th:only-of-type {\n        vertical-align: middle;\n    }\n\n    .dataframe tbody tr th {\n        vertical-align: top;\n    }\n\n    .dataframe thead th {\n        text-align: right;\n    }\n</style>\n<table border=\"1\" class=\"dataframe\">\n  <thead>\n    <tr style=\"text-align: right;\">\n      <th></th>\n      <th>order_id</th>\n      <th>product_id</th>\n      <th>add_to_cart_order</th>\n      <th>reordered</th>\n      <th>product_name</th>\n      <th>aisle_id</th>\n      <th>department_id</th>\n      <th>user_id</th>\n      <th>eval_set</th>\n      <th>order_number</th>\n      <th>order_dow</th>\n      <th>order_hour_of_day</th>\n      <th>days_since_prior_order</th>\n    </tr>\n  </thead>\n  <tbody>\n    <tr>\n      <th>0</th>\n      <td>2</td>\n      <td>33120</td>\n      <td>1</td>\n      <td>True</td>\n      <td>Organic Egg Whites</td>\n      <td>86</td>\n      <td>16</td>\n      <td>202279</td>\n      <td>prior</td>\n      <td>3</td>\n      <td>5</td>\n      <td>9</td>\n      <td>8.0</td>\n    </tr>\n    <tr>\n      <th>1</th>\n      <td>2</td>\n      <td>28985</td>\n      <td>2</td>\n      <td>True</td>\n      <td>Michigan Organic Kale</td>\n      <td>83</td>\n      <td>4</td>\n      <td>202279</td>\n      <td>prior</td>\n      <td>3</td>\n      <td>5</td>\n      <td>9</td>\n      <td>8.0</td>\n    </tr>\n    <tr>\n      <th>2</th>\n      <td>2</td>\n      <td>9327</td>\n      <td>3</td>\n      <td>False</td>\n      <td>Garlic Powder</td>\n      <td>104</td>\n      <td>13</td>\n      <td>202279</td>\n      <td>prior</td>\n      <td>3</td>\n      <td>5</td>\n      <td>9</td>\n      <td>8.0</td>\n    </tr>\n    <tr>\n      <th>3</th>\n      <td>2</td>\n      <td>45918</td>\n      <td>4</td>\n      <td>True</td>\n      <td>Coconut Butter</td>\n      <td>19</td>\n      <td>13</td>\n      <td>202279</td>\n      <td>prior</td>\n      <td>3</td>\n      <td>5</td>\n      <td>9</td>\n      <td>8.0</td>\n    </tr>\n    <tr>\n      <th>4</th>\n      <td>2</td>\n      <td>30035</td>\n      <td>5</td>\n      <td>False</td>\n      <td>Natural Sweetener</td>\n      <td>17</td>\n      <td>13</td>\n      <td>202279</td>\n      <td>prior</td>\n      <td>3</td>\n      <td>5</td>\n      <td>9</td>\n      <td>8.0</td>\n    </tr>\n  </tbody>\n</table>\n</div>"
          },
          "metadata": {}
        }
      ]
    },
    {
      "metadata": {
        "_uuid": "1f5c6f9c98d1f14325d8987330538e8b8c657d79"
      },
      "cell_type": "markdown",
      "source": "### User_features"
    },
    {
      "metadata": {
        "trusted": true,
        "_uuid": "46482ba5fabf6b8e275479db18284ca27bf4bdc3"
      },
      "cell_type": "code",
      "source": "#User Features\nuser = pd.DataFrame()\nuser['mean_days_between_orders'] = orders.loc[orders.eval_set=='prior',].groupby('user_id')['days_since_prior_order'].mean().astype(np.float32)\nuser['number_of_orders'] = orders.loc[orders.eval_set=='prior',].groupby('user_id').size().astype(np.int16)\nuser = user.reset_index()\nuser.head()",
      "execution_count": 21,
      "outputs": [
        {
          "output_type": "execute_result",
          "execution_count": 21,
          "data": {
            "text/plain": "   user_id  mean_days_between_orders  number_of_orders\n0        1                 17.600000                10\n1        2                 14.142858                14\n2        3                 11.083333                12\n3        4                 11.000000                 5\n4        5                 10.000000                 4",
            "text/html": "<div>\n<style scoped>\n    .dataframe tbody tr th:only-of-type {\n        vertical-align: middle;\n    }\n\n    .dataframe tbody tr th {\n        vertical-align: top;\n    }\n\n    .dataframe thead th {\n        text-align: right;\n    }\n</style>\n<table border=\"1\" class=\"dataframe\">\n  <thead>\n    <tr style=\"text-align: right;\">\n      <th></th>\n      <th>user_id</th>\n      <th>mean_days_between_orders</th>\n      <th>number_of_orders</th>\n    </tr>\n  </thead>\n  <tbody>\n    <tr>\n      <th>0</th>\n      <td>1</td>\n      <td>17.600000</td>\n      <td>10</td>\n    </tr>\n    <tr>\n      <th>1</th>\n      <td>2</td>\n      <td>14.142858</td>\n      <td>14</td>\n    </tr>\n    <tr>\n      <th>2</th>\n      <td>3</td>\n      <td>11.083333</td>\n      <td>12</td>\n    </tr>\n    <tr>\n      <th>3</th>\n      <td>4</td>\n      <td>11.000000</td>\n      <td>5</td>\n    </tr>\n    <tr>\n      <th>4</th>\n      <td>5</td>\n      <td>10.000000</td>\n      <td>4</td>\n    </tr>\n  </tbody>\n</table>\n</div>"
          },
          "metadata": {}
        }
      ]
    },
    {
      "metadata": {
        "trusted": true,
        "_uuid": "826583c3486c1be40d73f9b424fee4c008b433a1"
      },
      "cell_type": "code",
      "source": "# Order similarity per user\norders_set = orders_products_prior.groupby(['user_id', 'order_number'])['product_id'].apply(set)\norders_set = orders_set.to_frame('products').reset_index()\norders_set['next_order_products'] = orders_set.groupby('user_id')['products'].shift(-1)\norders_set = orders_set.dropna()\n\n# The Jaccard similarity measures similarity between \n# finite sample sets, and is defined as the cardinality of the intersection of sets \n# divided by the cardinality of the union of the sample sets. \n\ndef jaccard_similarity(x,y):\n    intersection_len = len(set.intersection(x,y))\n    union_len = len(set.union(x,y))\n    return intersection_len/union_len\n\norders_set['jaccard_similarity'] = orders_set.apply(lambda x: jaccard_similarity(x['products'], x['next_order_products']), axis=1)",
      "execution_count": 22,
      "outputs": []
    },
    {
      "metadata": {
        "trusted": true,
        "_uuid": "f4b753ea4a5caff7fff1673a28df1ee07f8ef5db"
      },
      "cell_type": "code",
      "source": "order_similarity = orders_set.groupby('user_id')['jaccard_similarity'].mean().to_frame('mean_order_similarity').astype(np.float32).reset_index()",
      "execution_count": 23,
      "outputs": []
    },
    {
      "metadata": {
        "trusted": true,
        "_uuid": "04abb8c9fb4656fc968a10bb8925816baada6ff6"
      },
      "cell_type": "code",
      "source": "#User features based on prior orders\nprior_users = pd.DataFrame()\nprior_users['prior_total_items'] = orders_products_prior.groupby('user_id').size().astype(np.int16)\nprior_users['prior_all_products'] = orders_products_prior.groupby('user_id')['product_id'].apply(set)\nprior_users['total_distinct_products'] = prior_users.prior_all_products.map(len).astype(np.int16)\n\nprior_users = prior_users.reset_index()\nprior_users = prior_users.merge(user, on = 'user_id')\ndel user\nprior_users['average_products_per_basket'] = (prior_users.prior_total_items / prior_users.number_of_orders).astype(np.float32)\nprior_users = pd.DataFrame(prior_users)\nprior_users = prior_users.merge(order_similarity, how='left', on = 'user_id')\nprior_users.head()",
      "execution_count": 24,
      "outputs": [
        {
          "output_type": "execute_result",
          "execution_count": 24,
          "data": {
            "text/plain": "   user_id          ...            mean_order_similarity\n0        1          ...                         0.581393\n1        2          ...                         0.140149\n2        3          ...                         0.253725\n3        4          ...                         0.000000\n4        5          ...                         0.210317\n\n[5 rows x 8 columns]",
            "text/html": "<div>\n<style scoped>\n    .dataframe tbody tr th:only-of-type {\n        vertical-align: middle;\n    }\n\n    .dataframe tbody tr th {\n        vertical-align: top;\n    }\n\n    .dataframe thead th {\n        text-align: right;\n    }\n</style>\n<table border=\"1\" class=\"dataframe\">\n  <thead>\n    <tr style=\"text-align: right;\">\n      <th></th>\n      <th>user_id</th>\n      <th>prior_total_items</th>\n      <th>prior_all_products</th>\n      <th>total_distinct_products</th>\n      <th>mean_days_between_orders</th>\n      <th>number_of_orders</th>\n      <th>average_products_per_basket</th>\n      <th>mean_order_similarity</th>\n    </tr>\n  </thead>\n  <tbody>\n    <tr>\n      <th>0</th>\n      <td>1</td>\n      <td>59</td>\n      <td>{17122, 196, 46149, 26405, 14084, 13032, 26088...</td>\n      <td>18</td>\n      <td>17.600000</td>\n      <td>10</td>\n      <td>5.900000</td>\n      <td>0.581393</td>\n    </tr>\n    <tr>\n      <th>1</th>\n      <td>2</td>\n      <td>195</td>\n      <td>{45066, 2573, 18961, 1559, 32792, 23, 22559, 1...</td>\n      <td>102</td>\n      <td>14.142858</td>\n      <td>14</td>\n      <td>13.928572</td>\n      <td>0.140149</td>\n    </tr>\n    <tr>\n      <th>2</th>\n      <td>3</td>\n      <td>88</td>\n      <td>{17668, 44683, 48523, 21903, 14992, 21137, 324...</td>\n      <td>33</td>\n      <td>11.083333</td>\n      <td>12</td>\n      <td>7.333333</td>\n      <td>0.253725</td>\n    </tr>\n    <tr>\n      <th>3</th>\n      <td>4</td>\n      <td>18</td>\n      <td>{21573, 42329, 17769, 35469, 37646, 1200, 1905...</td>\n      <td>17</td>\n      <td>11.000000</td>\n      <td>5</td>\n      <td>3.600000</td>\n      <td>0.000000</td>\n    </tr>\n    <tr>\n      <th>4</th>\n      <td>5</td>\n      <td>37</td>\n      <td>{11777, 28289, 40706, 48775, 20754, 6808, 1398...</td>\n      <td>23</td>\n      <td>10.000000</td>\n      <td>4</td>\n      <td>9.250000</td>\n      <td>0.210317</td>\n    </tr>\n  </tbody>\n</table>\n</div>"
          },
          "metadata": {}
        }
      ]
    },
    {
      "metadata": {
        "trusted": true,
        "_uuid": "0aa2f7ad5b0d2eda24d38e5ce3299cf67de299af"
      },
      "cell_type": "code",
      "source": "user_days = orders_products_prior.groupby('user_id')['order_dow'].mean().to_frame('user_avg_orderdow').astype(np.float32).reset_index()\nuser_days = user_days.merge(orders_products_prior.groupby\n                           ('user_id')['order_hour_of_day'].mean().to_frame\n                            ('user_avg_orderhour').astype(np.float32).reset_index(), on = 'user_id')\nprior_users = prior_users.merge(user_days, how= 'left', on = 'user_id')\nprior_users.head().T",
      "execution_count": 25,
      "outputs": [
        {
          "output_type": "execute_result",
          "execution_count": 25,
          "data": {
            "text/plain": "                                                                             0                        ...                                                                          4\nuser_id                                                                      1                        ...                                                                          5\nprior_total_items                                                           59                        ...                                                                         37\nprior_all_products           {17122, 196, 46149, 26405, 14084, 13032, 26088...                        ...                          {11777, 28289, 40706, 48775, 20754, 6808, 1398...\ntotal_distinct_products                                                     18                        ...                                                                         23\nmean_days_between_orders                                                  17.6                        ...                                                                         10\nnumber_of_orders                                                            10                        ...                                                                          4\naverage_products_per_basket                                                5.9                        ...                                                                       9.25\nmean_order_similarity                                                 0.581393                        ...                                                                   0.210317\nuser_avg_orderdow                                                      2.64407                        ...                                                                    1.62162\nuser_avg_orderhour                                                     10.5424                        ...                                                                    15.7297\n\n[10 rows x 5 columns]",
            "text/html": "<div>\n<style scoped>\n    .dataframe tbody tr th:only-of-type {\n        vertical-align: middle;\n    }\n\n    .dataframe tbody tr th {\n        vertical-align: top;\n    }\n\n    .dataframe thead th {\n        text-align: right;\n    }\n</style>\n<table border=\"1\" class=\"dataframe\">\n  <thead>\n    <tr style=\"text-align: right;\">\n      <th></th>\n      <th>0</th>\n      <th>1</th>\n      <th>2</th>\n      <th>3</th>\n      <th>4</th>\n    </tr>\n  </thead>\n  <tbody>\n    <tr>\n      <th>user_id</th>\n      <td>1</td>\n      <td>2</td>\n      <td>3</td>\n      <td>4</td>\n      <td>5</td>\n    </tr>\n    <tr>\n      <th>prior_total_items</th>\n      <td>59</td>\n      <td>195</td>\n      <td>88</td>\n      <td>18</td>\n      <td>37</td>\n    </tr>\n    <tr>\n      <th>prior_all_products</th>\n      <td>{17122, 196, 46149, 26405, 14084, 13032, 26088...</td>\n      <td>{45066, 2573, 18961, 1559, 32792, 23, 22559, 1...</td>\n      <td>{17668, 44683, 48523, 21903, 14992, 21137, 324...</td>\n      <td>{21573, 42329, 17769, 35469, 37646, 1200, 1905...</td>\n      <td>{11777, 28289, 40706, 48775, 20754, 6808, 1398...</td>\n    </tr>\n    <tr>\n      <th>total_distinct_products</th>\n      <td>18</td>\n      <td>102</td>\n      <td>33</td>\n      <td>17</td>\n      <td>23</td>\n    </tr>\n    <tr>\n      <th>mean_days_between_orders</th>\n      <td>17.6</td>\n      <td>14.1429</td>\n      <td>11.0833</td>\n      <td>11</td>\n      <td>10</td>\n    </tr>\n    <tr>\n      <th>number_of_orders</th>\n      <td>10</td>\n      <td>14</td>\n      <td>12</td>\n      <td>5</td>\n      <td>4</td>\n    </tr>\n    <tr>\n      <th>average_products_per_basket</th>\n      <td>5.9</td>\n      <td>13.9286</td>\n      <td>7.33333</td>\n      <td>3.6</td>\n      <td>9.25</td>\n    </tr>\n    <tr>\n      <th>mean_order_similarity</th>\n      <td>0.581393</td>\n      <td>0.140149</td>\n      <td>0.253725</td>\n      <td>0</td>\n      <td>0.210317</td>\n    </tr>\n    <tr>\n      <th>user_avg_orderdow</th>\n      <td>2.64407</td>\n      <td>2.00513</td>\n      <td>1.01136</td>\n      <td>4.72222</td>\n      <td>1.62162</td>\n    </tr>\n    <tr>\n      <th>user_avg_orderhour</th>\n      <td>10.5424</td>\n      <td>10.441</td>\n      <td>16.3523</td>\n      <td>13.1111</td>\n      <td>15.7297</td>\n    </tr>\n  </tbody>\n</table>\n</div>"
          },
          "metadata": {}
        }
      ]
    },
    {
      "metadata": {
        "_uuid": "f80a009da7c6395a6b8fb68cab7bee6cb933e6f1"
      },
      "cell_type": "markdown",
      "source": "### User X Product Features"
    },
    {
      "metadata": {
        "trusted": true,
        "_uuid": "997a4e8037398ffe2d5b69d407c32407086596e5"
      },
      "cell_type": "code",
      "source": "#User X Product features\norders_products_prior['user_product'] = orders_products_prior.product_id + orders_products_prior.user_id * 100000\n",
      "execution_count": 26,
      "outputs": []
    },
    {
      "metadata": {
        "trusted": true,
        "_uuid": "4d822aadf1bd8f60b3f5b263618597415b7bb371"
      },
      "cell_type": "code",
      "source": "userXproduct = orders_products_prior.groupby('user_product').size().astype(np.uint32).reset_index(name = 'nb_counts')\na = orders_products_prior.groupby('user_product')['order_id'].max().astype(np.uint32).reset_index(name = 'last_order_id')\navg_pos_in_cart = orders_products_prior.groupby('user_product')['add_to_cart_order'].mean().astype(np.float32).reset_index(name = 'mean_pos_in_cart')\nmean_reorder = orders_products_prior.groupby('user_product')['reordered'].mean().astype(np.float32).reset_index(name = 'UP_mean_reorder_rate')",
      "execution_count": 27,
      "outputs": []
    },
    {
      "metadata": {
        "trusted": true,
        "_uuid": "95a1645b2d3c756f3eeed4af6d966c1e26eacd88"
      },
      "cell_type": "code",
      "source": "userXproduct = userXproduct.merge(a, on='user_product')\nuserXproduct = userXproduct.merge(avg_pos_in_cart, on='user_product')\nuserXproduct = userXproduct.merge(mean_reorder, on='user_product')",
      "execution_count": 28,
      "outputs": []
    },
    {
      "metadata": {
        "trusted": true,
        "_uuid": "2ab87f8444b2ae9fc7e589db835b3774643886eb"
      },
      "cell_type": "code",
      "source": "userXproduct.head()",
      "execution_count": 29,
      "outputs": [
        {
          "output_type": "execute_result",
          "execution_count": 29,
          "data": {
            "text/plain": "   user_product          ...           UP_mean_reorder_rate\n0           462          ...                       0.666667\n1          1077          ...                       0.500000\n2          2857          ...                       0.500000\n3          3176          ...                       0.666667\n4          3210          ...                       0.000000\n\n[5 rows x 5 columns]",
            "text/html": "<div>\n<style scoped>\n    .dataframe tbody tr th:only-of-type {\n        vertical-align: middle;\n    }\n\n    .dataframe tbody tr th {\n        vertical-align: top;\n    }\n\n    .dataframe thead th {\n        text-align: right;\n    }\n</style>\n<table border=\"1\" class=\"dataframe\">\n  <thead>\n    <tr style=\"text-align: right;\">\n      <th></th>\n      <th>user_product</th>\n      <th>nb_counts</th>\n      <th>last_order_id</th>\n      <th>mean_pos_in_cart</th>\n      <th>UP_mean_reorder_rate</th>\n    </tr>\n  </thead>\n  <tbody>\n    <tr>\n      <th>0</th>\n      <td>462</td>\n      <td>3</td>\n      <td>2557077</td>\n      <td>7.333333</td>\n      <td>0.666667</td>\n    </tr>\n    <tr>\n      <th>1</th>\n      <td>1077</td>\n      <td>2</td>\n      <td>2320368</td>\n      <td>21.000000</td>\n      <td>0.500000</td>\n    </tr>\n    <tr>\n      <th>2</th>\n      <td>2857</td>\n      <td>2</td>\n      <td>1132311</td>\n      <td>13.500000</td>\n      <td>0.500000</td>\n    </tr>\n    <tr>\n      <th>3</th>\n      <td>3176</td>\n      <td>3</td>\n      <td>1190356</td>\n      <td>14.000000</td>\n      <td>0.666667</td>\n    </tr>\n    <tr>\n      <th>4</th>\n      <td>3210</td>\n      <td>1</td>\n      <td>1532072</td>\n      <td>8.000000</td>\n      <td>0.000000</td>\n    </tr>\n  </tbody>\n</table>\n</div>"
          },
          "metadata": {}
        }
      ]
    },
    {
      "metadata": {
        "trusted": true,
        "_uuid": "51026a4e951006a5a0e51880f473774c90073155"
      },
      "cell_type": "code",
      "source": "#Train test Split\ntest_orders = orders[orders.eval_set == 'test']\ntrain_orders = orders[orders.eval_set == 'train']",
      "execution_count": 30,
      "outputs": []
    },
    {
      "metadata": {
        "trusted": true,
        "_uuid": "9ff9922afc2a0c098d78540ca3c353b93c8d8653"
      },
      "cell_type": "code",
      "source": "def create_dummies(df, colname):\n    col_dummies = pd.get_dummies(df[colname], prefix=colname)\n    col_dummies.drop(col_dummies.columns[0], axis=1, inplace=True)\n    df = pd.concat([df, col_dummies], axis=1)\n    df.drop( colname, axis = 1, inplace = True )\n    return df",
      "execution_count": 31,
      "outputs": []
    },
    {
      "metadata": {
        "trusted": true,
        "_uuid": "d925ded9dd00431780608040c4d1d4784ab4d484"
      },
      "cell_type": "code",
      "source": "orders_products_train_1 = orders_products_train.copy()\norders_products_train_1.set_index(['order_id', 'product_id'], inplace=True)",
      "execution_count": 32,
      "outputs": []
    },
    {
      "metadata": {
        "trusted": true,
        "_uuid": "7050359895e92c9ecce23a182f6fa190c26fabb2"
      },
      "cell_type": "code",
      "source": "def df_initiate(df, labels_given=False):\n    order_list = []\n    product_list = []\n    labels = []\n    i=0\n    for row in df.itertuples():\n        i+=1\n        if i%10000 == 0: print('order row',i)\n        order_id = row.order_id\n        user_id = row.user_id\n        user_products = prior_users.loc[prior_users.user_id == user_id, 'prior_all_products'].values[0]\n        product_list += user_products\n        order_list += [order_id] * len(user_products)\n        if labels_given:\n            labels += [(order_id, product) in orders_products_train_1.index for product in user_products]\n    df = pd.DataFrame({'order_id':order_list, 'product_id':product_list}, dtype=np.int32)\n    labels = np.array(labels, dtype=np.int8)\n    if labels_given:\n        df['y'] = labels\n    del order_list\n    del product_list\n    return df",
      "execution_count": 33,
      "outputs": []
    },
    {
      "metadata": {
        "trusted": true,
        "_uuid": "74d2b7df3c008cdc3472d39a0f544e463da40476"
      },
      "cell_type": "code",
      "source": "def user_related_features(df):\n    df['user_id'] = df.order_id.map(orders.user_id).astype(np.uint32)\n    df = df.merge(prior_users, on = 'user_id', how = 'left').drop('prior_all_products', axis=1)\n    return df",
      "execution_count": 34,
      "outputs": []
    },
    {
      "metadata": {
        "trusted": true,
        "_uuid": "f6cf0b3a87d987bfd0dfa676af6435cb120cd93f"
      },
      "cell_type": "code",
      "source": "def order_related_features(df):\n    df = df.merge(orders[['order_id', 'order_dow','order_hour_of_day', 'days_since_prior_order']], on = 'order_id', how='left')\n    df['days_since_ratio'] = (df.days_since_prior_order / df.mean_days_between_orders).astype(np.float32)\n    return df",
      "execution_count": 35,
      "outputs": []
    },
    {
      "metadata": {
        "trusted": true,
        "_uuid": "f9983aa1b7767e9585f52968181be0b6db88ce05"
      },
      "cell_type": "code",
      "source": "def product_related_features(df):\n    prior_products_x = prior_products.drop('product_name', axis=1)\n    df = df.merge(prior_products_x, on='product_id', how='left')\n    return df",
      "execution_count": 36,
      "outputs": []
    },
    {
      "metadata": {
        "trusted": true,
        "_uuid": "39e979785a489709a6d1aaeadf9d3eaa5838de97"
      },
      "cell_type": "code",
      "source": "def user_product(df):\n    df['user_product'] = df.product_id + df.user_id * 100000\n    df = df.merge(userXproduct, on='user_product', how='left')\n    df = df.rename(columns = {'nb_counts' : 'UP_orders', 'last_order_id': 'UP_last_order_id', 'mean_pos_in_cart': 'UP_mean_pos_in_cart'})\n    df['UP_orders_ratio'] = (df.UP_orders / df.number_of_orders).astype(np.float32)\n    df['UP_orders_since_last'] = df.number_of_orders - df.UP_last_order_id.map(orders.order_number)\n    df.drop(['UP_last_order_id', 'user_product', 'user_id'], axis=1, inplace=True)\n    return df",
      "execution_count": 37,
      "outputs": []
    },
    {
      "metadata": {
        "trusted": true,
        "_uuid": "10b37f7720401e9489a31b5bb02dbbff0c2ad2f5"
      },
      "cell_type": "code",
      "source": "def top_aisle_department(df):\n    is_aisle_top_30_reordered = []\n    for i in df.aisle_id:\n        is_aisle_top_30_reordered += [i in top_30_reordered_aisles_list]\n    df['is_aisle_top_30_reordered'] = is_aisle_top_30_reordered\n    df['is_aisle_top_30_reordered'] = df['is_aisle_top_30_reordered'].astype(np.uint8)    \n\n    is_department_top_10_reordered = []\n    for i in df.department_id:\n        is_department_top_10_reordered += [i in top_10_reordered_departments_list]\n    df['is_department_top_10_reordered'] = is_department_top_10_reordered\n    df['is_department_top_10_reordered'] = df['is_department_top_10_reordered'].astype(np.uint8)\n    return df",
      "execution_count": 38,
      "outputs": []
    },
    {
      "metadata": {
        "trusted": true,
        "_uuid": "b8e0bea00434bc3e8e9daac8fd71842313a18be1"
      },
      "cell_type": "code",
      "source": "def dummy_var(df):\n    df = create_dummies(df, 'order_dow')\n    df = create_dummies(df, 'order_hour_of_day')\n    return df",
      "execution_count": 39,
      "outputs": []
    },
    {
      "metadata": {
        "trusted": true,
        "_uuid": "23f4f38353c06415d6051511e63582464caeee09"
      },
      "cell_type": "code",
      "source": "print(\"Training Set\")\ndf_train = df_initiate(train_orders, labels_given=True)",
      "execution_count": null,
      "outputs": [
        {
          "output_type": "stream",
          "text": "Training Set\n",
          "name": "stdout"
        }
      ]
    },
    {
      "metadata": {
        "trusted": true,
        "_uuid": "80ac679a2cb0748e57b8c3f41de2bdda087434bf"
      },
      "cell_type": "code",
      "source": "df_train = user_related_features(df_train)\ndf_train = order_related_features(df_train)\ndf_train = product_related_features(df_train)\ndf_train = user_product(df_train)\ndf_train = top_aisle_department(df_train)\ndf_train = dummy_var(df_train)",
      "execution_count": null,
      "outputs": []
    },
    {
      "metadata": {
        "trusted": true,
        "_uuid": "fffca72a6c5665ec5976369a435979612d83e69e"
      },
      "cell_type": "code",
      "source": "df_test = df_initiate(test_orders)",
      "execution_count": null,
      "outputs": []
    },
    {
      "metadata": {
        "trusted": true,
        "_uuid": "9f4961f819228c8a4dc62aaa4065f383217bf556"
      },
      "cell_type": "code",
      "source": "df_test = user_related_features(df_test)\ndf_test = order_related_features(df_test)\ndf_test = product_related_features(df_test)\ndf_test = user_product(df_test)\ndf_test = top_aisle_department(df_test)\ndf_test = dummy_var(df_test)",
      "execution_count": null,
      "outputs": []
    },
    {
      "metadata": {
        "trusted": true,
        "_uuid": "bde1c42236b7de83fd861461dace0e02e5e86499"
      },
      "cell_type": "code",
      "source": "len(set(df_train.order_id))",
      "execution_count": null,
      "outputs": []
    },
    {
      "metadata": {
        "trusted": true,
        "_uuid": "30e1576d54ae3900d4d50849dbf146ba51db67e7"
      },
      "cell_type": "code",
      "source": "df_train.to_pickle('/kaggle/working/df_train')\ndf_test.to_pickle('/kaggle/working/df_test')",
      "execution_count": null,
      "outputs": []
    },
    {
      "metadata": {
        "trusted": true,
        "_uuid": "7eac4816019b489258d082370fdda9c98038f91b"
      },
      "cell_type": "code",
      "source": "import lightgbm as lgb",
      "execution_count": null,
      "outputs": []
    },
    {
      "metadata": {
        "trusted": true,
        "_uuid": "71ae566c226a6324784b5adac839ffd7b9876b04"
      },
      "cell_type": "code",
      "source": "cols_to_use = ['prior_total_items',\n       'total_distinct_products', 'mean_days_between_orders',\n       'number_of_orders', 'average_products_per_basket',\n       'mean_order_similarity', 'user_avg_orderdow', 'user_avg_orderhour',\n       'days_since_prior_order', 'days_since_ratio', 'prior_orders', 'prior_reorders', 'prior_reorder_rate',\n       'is_gluten_free', 'is_organic', 'is_low_fat', 'prior_avg_add_to_cart',\n       'product_avg_orderdow', 'product_avg_orderhour', 'is_top_100_reordered',\n       'UP_orders', 'UP_mean_pos_in_cart', 'UP_mean_reorder_rate',\n       'UP_orders_ratio', 'UP_orders_since_last', 'is_aisle_top_30_reordered',\n       'is_department_top_10_reordered', 'order_dow_1', 'order_dow_2',\n       'order_dow_3', 'order_dow_4', 'order_dow_5', 'order_dow_6',\n       'order_hour_of_day_1', 'order_hour_of_day_2', 'order_hour_of_day_3',\n       'order_hour_of_day_4', 'order_hour_of_day_5', 'order_hour_of_day_6',\n       'order_hour_of_day_7', 'order_hour_of_day_8', 'order_hour_of_day_9',\n       'order_hour_of_day_10', 'order_hour_of_day_11', 'order_hour_of_day_12',\n       'order_hour_of_day_13', 'order_hour_of_day_14', 'order_hour_of_day_15',\n       'order_hour_of_day_16', 'order_hour_of_day_17', 'order_hour_of_day_18',\n       'order_hour_of_day_19', 'order_hour_of_day_20', 'order_hour_of_day_21',\n       'order_hour_of_day_22', 'order_hour_of_day_23']",
      "execution_count": null,
      "outputs": []
    },
    {
      "metadata": {
        "trusted": true,
        "_uuid": "55ad648c14009fa75e75f654414444ea13d9ee8f"
      },
      "cell_type": "code",
      "source": "labels = df_train['y']",
      "execution_count": null,
      "outputs": []
    },
    {
      "metadata": {
        "trusted": true,
        "_uuid": "915e9d8955b203cd10f7dc3da904787d89d691a0"
      },
      "cell_type": "code",
      "source": "d_train = lgb.Dataset(df_train[cols_to_use], label=labels)",
      "execution_count": null,
      "outputs": []
    },
    {
      "metadata": {
        "trusted": true,
        "_uuid": "8d0f01a28eaf02be9b2198dedb3b39ff141a63a6"
      },
      "cell_type": "code",
      "source": "params = {\n    'task': 'train',\n    'boosting_type': 'gbdt',\n    'objective': 'binary',\n    'metric': {'binary_logloss'},\n    'num_leaves': 96,\n    'max_depth': 10,\n    'feature_fraction': 0.9,\n    'bagging_fraction': 0.95,\n    'bagging_freq': 5\n}\nROUNDS = 500",
      "execution_count": null,
      "outputs": []
    },
    {
      "metadata": {
        "trusted": true,
        "_uuid": "41b4a64106e878c43b1d946a85b54509c56eb17e"
      },
      "cell_type": "code",
      "source": "model = lgb.train(params, d_train, ROUNDS)",
      "execution_count": null,
      "outputs": []
    },
    {
      "metadata": {
        "trusted": true,
        "_uuid": "f252db3dc5dbf3e94576a059367dc1efd9e21097"
      },
      "cell_type": "code",
      "source": "preds = model.predict(df_test[cols_to_use])",
      "execution_count": null,
      "outputs": []
    },
    {
      "metadata": {
        "trusted": true,
        "_uuid": "a25ec4fc57420321157aeecc0a8a50381efdc9fe"
      },
      "cell_type": "code",
      "source": "df_test['pred'] = preds\nTRESHOLD = 0.22",
      "execution_count": null,
      "outputs": []
    },
    {
      "metadata": {
        "trusted": true,
        "_uuid": "1554c8b79705dc763e1b58f272296e546a6b3c42"
      },
      "cell_type": "code",
      "source": "d = dict()\nfor row in df_test.itertuples():\n    if row.pred > TRESHOLD:\n        try:\n            d[row.order_id] += ' ' + str(row.product_id)\n        except:\n            d[row.order_id] = str(row.product_id)\n\nfor order in test_orders.order_id:\n    if order not in d:\n        d[order] = 'None'",
      "execution_count": null,
      "outputs": []
    },
    {
      "metadata": {
        "trusted": true,
        "_uuid": "7f8b805abf9d760de723157f11330514b603ab3a"
      },
      "cell_type": "code",
      "source": "sub = pd.DataFrame.from_dict(d, orient='index')\n\n# sub.reset_index(inplace=True)\n# sub.columns = ['order_id', 'products']\n# sub.to_csv('/kaggle/working/sub.csv', index=False)",
      "execution_count": null,
      "outputs": []
    },
    {
      "metadata": {
        "trusted": true,
        "_uuid": "8ac68deddcd065681285fe5cdff38a4c09822099"
      },
      "cell_type": "code",
      "source": "os.listdir('/kaggle/working/')",
      "execution_count": null,
      "outputs": []
    },
    {
      "metadata": {
        "trusted": true,
        "_uuid": "35b1dcc33dcda09a1867958401813d83ee11a9ec"
      },
      "cell_type": "code",
      "source": "sub.shape",
      "execution_count": null,
      "outputs": []
    },
    {
      "metadata": {
        "trusted": true,
        "_uuid": "a9d915a023cc9585c0893c5d7ada1044ec34163c"
      },
      "cell_type": "code",
      "source": "",
      "execution_count": null,
      "outputs": []
    }
  ],
  "metadata": {
    "kernelspec": {
      "display_name": "Python 3",
      "language": "python",
      "name": "python3"
    },
    "language_info": {
      "name": "python",
      "version": "3.6.6",
      "mimetype": "text/x-python",
      "codemirror_mode": {
        "name": "ipython",
        "version": 3
      },
      "pygments_lexer": "ipython3",
      "nbconvert_exporter": "python",
      "file_extension": ".py"
    }
  },
  "nbformat": 4,
  "nbformat_minor": 1
}