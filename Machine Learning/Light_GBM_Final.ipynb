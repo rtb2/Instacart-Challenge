{
  "cells": [
    {
      "metadata": {
        "_uuid": "8f2839f25d086af736a60e9eeb907d3b93b6e0e5",
        "_cell_guid": "b1076dfc-b9ad-4769-8c92-a6c4dae69d19",
        "trusted": true
      },
      "cell_type": "code",
      "source": "# This Python 3 environment comes with many helpful analytics libraries installed\n# It is defined by the kaggle/python docker image: https://github.com/kaggle/docker-python\n# For example, here's several helpful packages to load in \n\nimport numpy as np # linear algebra\nimport pandas as pd # data processing, CSV file I/O (e.g. pd.read_csv)\n\n# Input data files are available in the \"../input/\" directory.\n# For example, running this (by clicking run or pressing Shift+Enter) will list the files in the input directory\n\nimport os\nprint(os.listdir(\"../input\"))\n\n# Any results you write to the current directory are saved as output.",
      "execution_count": 19,
      "outputs": [
        {
          "output_type": "stream",
          "text": "['aisles', 'pickle-data']\n",
          "name": "stdout"
        }
      ]
    },
    {
      "metadata": {
        "_cell_guid": "79c7e3d0-c299-4dcb-8224-4455121ee9b0",
        "_uuid": "d629ff2d2480ee46fbb7e2d37f6b5fab8052498a",
        "trusted": true
      },
      "cell_type": "code",
      "source": "import os\nos.getcwd()",
      "execution_count": 20,
      "outputs": [
        {
          "output_type": "execute_result",
          "execution_count": 20,
          "data": {
            "text/plain": "'/kaggle/input'"
          },
          "metadata": {}
        }
      ]
    },
    {
      "metadata": {
        "trusted": true,
        "_uuid": "82a41f1002c3222f3c33e22675fcfbf936ca1f94"
      },
      "cell_type": "code",
      "source": "os.chdir(\"../input\")",
      "execution_count": 21,
      "outputs": []
    },
    {
      "metadata": {
        "trusted": true,
        "_uuid": "1dcb40dc5ef15a3cc6b2ca35eac5c30c113287d6"
      },
      "cell_type": "code",
      "source": "os.listdir('pickle-data')",
      "execution_count": 22,
      "outputs": [
        {
          "output_type": "execute_result",
          "execution_count": 22,
          "data": {
            "text/plain": "['df_test (1)', 'df_train (2)']"
          },
          "metadata": {}
        }
      ]
    },
    {
      "metadata": {
        "trusted": true,
        "_uuid": "96f91362fd92244fe3b66a01428a9d35f5818da9"
      },
      "cell_type": "code",
      "source": "#importing required libraries\nimport pandas as pd\nimport numpy as np\nimport glob\nfrom scipy import stats\nimport matplotlib.pyplot as plt\nimport seaborn as sns\nimport lightgbm as lgb",
      "execution_count": 23,
      "outputs": []
    },
    {
      "metadata": {
        "trusted": true,
        "_uuid": "78678a5e33dd851267f1ac6114ca4f7d7103357c"
      },
      "cell_type": "code",
      "source": "df_train = pd.read_pickle('pickle-data/df_train (2)')\ndf_test = pd.read_pickle('pickle-data/df_test (1)')\norders = pd.read_csv(\"aisles/orders.csv\", dtype = {'order_id': np.uint32,\n                                            'user_id': np.uint32,\n                                            'eval_set': 'category',\n                                            'order_number': np.uint8,\n                                            'order_dow': np.uint8,\n                                            'order_hour_of_day': np.uint8})",
      "execution_count": 24,
      "outputs": []
    },
    {
      "metadata": {
        "trusted": true,
        "_uuid": "1495d827fa0d907f484ba5579c98363866ccff6e"
      },
      "cell_type": "code",
      "source": "df_train[['aisle_id', 'department_id']] = df_train[['aisle_id', 'department_id']].astype('category')",
      "execution_count": 25,
      "outputs": []
    },
    {
      "metadata": {
        "trusted": true,
        "_uuid": "8351d4a06b415e484332a34f95adb9fd1983d800"
      },
      "cell_type": "code",
      "source": "X = df_train.drop(['order_id', 'product_id', 'y'], axis=1)\ny = df_train['y'].values",
      "execution_count": 26,
      "outputs": []
    },
    {
      "metadata": {
        "trusted": true,
        "_uuid": "682ac2a1fd5e9f1dba02fce2e4d3852110c47ab7"
      },
      "cell_type": "code",
      "source": "from sklearn.model_selection import train_test_split\nX_train, X_test, y_train, y_test = train_test_split(X,y,test_size = 0.3, random_state=30, shuffle = True, stratify = y)",
      "execution_count": 27,
      "outputs": []
    },
    {
      "metadata": {
        "trusted": true,
        "_uuid": "258ae1151073c18463ae04c794cdd2c0423514d0"
      },
      "cell_type": "code",
      "source": "#light_gbm\ndataset_train = lgb.Dataset(X_train, label=y_train, categorical_feature=['aisle_id', 'department_id'])",
      "execution_count": 28,
      "outputs": []
    },
    {
      "metadata": {
        "trusted": true,
        "_uuid": "454977db62c41d8f4fccaca92f2635ddd9984002"
      },
      "cell_type": "code",
      "source": "params = {\n    'task': 'train',\n    'boosting_type': 'gbdt',\n    'objective': 'binary',\n    'metric': {'binary_logloss'},\n    'num_leaves': 96,\n    'max_depth': 10,\n    'feature_fraction': 0.9,\n    'bagging_fraction': 0.95,\n    'bagging_freq': 5\n}\nROUNDS = 500",
      "execution_count": 30,
      "outputs": []
    },
    {
      "metadata": {
        "trusted": true,
        "_uuid": "0c6fb3aef1d4d8c41340aefc25f05c29e03fa8be"
      },
      "cell_type": "code",
      "source": "model = lgb.train(params, dataset_train, ROUNDS)",
      "execution_count": 31,
      "outputs": [
        {
          "output_type": "stream",
          "text": "/opt/conda/lib/python3.6/site-packages/lightgbm/basic.py:1186: UserWarning: Using categorical_feature in Dataset.\n  warnings.warn('Using categorical_feature in Dataset.')\n",
          "name": "stderr"
        }
      ]
    },
    {
      "metadata": {
        "trusted": true,
        "_uuid": "0323e48e8752cb432ab8c3b2b5f063eee71ebeb0"
      },
      "cell_type": "code",
      "source": "print('light GBM predict')\npreds = model.predict(X_test)",
      "execution_count": 47,
      "outputs": [
        {
          "output_type": "stream",
          "text": "light GBM predict\n",
          "name": "stdout"
        }
      ]
    },
    {
      "metadata": {
        "trusted": true,
        "_uuid": "30103328c8c514ec8b137a8149f52f6a5f1ef0a0"
      },
      "cell_type": "code",
      "source": "preds[preds>=0.1] = 1\npreds[preds<.1] = 0",
      "execution_count": 48,
      "outputs": []
    },
    {
      "metadata": {
        "trusted": true,
        "_uuid": "8523023883462b7b0bcefbb97e0a1f75ff4a5957"
      },
      "cell_type": "code",
      "source": "from sklearn.metrics import accuracy_score, precision_score, recall_score, f1_score\nprint(\"Accuracy Score:\", accuracy_score(y_test, preds))\nprint(\"Precision Score:\", precision_score(y_test, preds))\nprint(\"Recall Score:\", recall_score(y_test, preds))\nprint(\"f1 Score:\", f1_score(y_test, preds))",
      "execution_count": 49,
      "outputs": [
        {
          "output_type": "stream",
          "text": "Accuracy Score: 0.6229270071298801\nPrecision Score: 0.1583671827560888\nRecall Score: 0.6618579753626628\nf1 Score: 0.2555800243514561\n",
          "name": "stdout"
        }
      ]
    },
    {
      "metadata": {
        "trusted": true,
        "_uuid": "37edb56e7bc18d402a97effda51f4cf838e1e030"
      },
      "cell_type": "code",
      "source": "c = {}\nx = [0.1,0.11,0.12,0.13,0.14,0.15,0.16,0.17,0.18,0.19,0.2]",
      "execution_count": 50,
      "outputs": []
    },
    {
      "metadata": {
        "trusted": true,
        "_uuid": "76bd4a6946b61fc6f3410608b8c0a3ff86526c20"
      },
      "cell_type": "code",
      "source": "for i in x:\n    preds = model.predict(X_test)\n    preds[preds>=i] = 1\n    preds[preds<i] = 0\n    c[i] = {\"Accuracy Score\": accuracy_score(y_test, preds),\n           \"Precision Score\": precision_score(y_test, preds),\n           \"Recall Score\": recall_score(y_test, preds),\n           \"f1 Score\": f1_score(y_test, preds)}",
      "execution_count": 56,
      "outputs": []
    },
    {
      "metadata": {
        "trusted": true,
        "_uuid": "45f31d49832330a6b4788753c05e646982150ad5"
      },
      "cell_type": "code",
      "source": "c",
      "execution_count": 57,
      "outputs": [
        {
          "output_type": "execute_result",
          "execution_count": 57,
          "data": {
            "text/plain": "{0.1: {'Accuracy Score': 0.6229270071298801,\n  'Precision Score': 0.1583671827560888,\n  'Recall Score': 0.6618579753626628,\n  'f1 Score': 0.2555800243514561},\n 0.11: {'Accuracy Score': 0.6729341067236103,\n  'Precision Score': 0.1683378227516208,\n  'Recall Score': 0.5949156836800765,\n  'f1 Score': 0.262420834146428},\n 0.12: {'Accuracy Score': 0.7160949166515562,\n  'Precision Score': 0.1790037272373261,\n  'Recall Score': 0.5305794962336163,\n  'f1 Score': 0.26769434304532824},\n 0.13: {'Accuracy Score': 0.7511673030079071,\n  'Precision Score': 0.18943252900764965,\n  'Recall Score': 0.4709769271296255,\n  'f1 Score': 0.2701910143208828},\n 0.14: {'Accuracy Score': 0.7795916376619091,\n  'Precision Score': 0.19966085037913459,\n  'Recall Score': 0.4167072194717813,\n  'f1 Score': 0.2699689418336825},\n 0.15: {'Accuracy Score': 0.8035135319043155,\n  'Precision Score': 0.20998913470652147,\n  'Recall Score': 0.3653170961242243,\n  'f1 Score': 0.26668447792700417},\n 0.16: {'Accuracy Score': 0.8236980112090981,\n  'Precision Score': 0.22109620205757982,\n  'Recall Score': 0.31815384862877893,\n  'f1 Score': 0.2608904997312209},\n 0.17: {'Accuracy Score': 0.83989373815833,\n  'Precision Score': 0.2323328928736782,\n  'Recall Score': 0.27648835497713625,\n  'f1 Score': 0.2524947204113488},\n 0.18: {'Accuracy Score': 0.8523874498062657,\n  'Precision Score': 0.24328531871678133,\n  'Recall Score': 0.24134214368160484,\n  'f1 Score': 0.24230983549629725},\n 0.19: {'Accuracy Score': 0.861551235663639,\n  'Precision Score': 0.25218571503935006,\n  'Recall Score': 0.2114805326426621,\n  'f1 Score': 0.23004637326100272},\n 0.2: {'Accuracy Score': 0.8690351121126149,\n  'Precision Score': 0.2613010984033518,\n  'Recall Score': 0.185608513273838,\n  'f1 Score': 0.21704482125347133}}"
          },
          "metadata": {}
        }
      ]
    },
    {
      "metadata": {
        "trusted": true,
        "_uuid": "0aebfad1a083d67f8de0b2a1ef41df2924bc03b4"
      },
      "cell_type": "code",
      "source": "d = {}\ny = [0.125,0.126,0.127,0.128,0.129,0.13,0.131,0.132,0.133,0.134,0.135]",
      "execution_count": 58,
      "outputs": []
    },
    {
      "metadata": {
        "trusted": true,
        "_uuid": "f7ed3b57f2ea2a3af8e63d5af8981432ec9c606c"
      },
      "cell_type": "code",
      "source": "for i in y:\n    preds = model.predict(X_test)\n    preds[preds>=i] = 1\n    preds[preds<i] = 0\n    d[i] = {\"Accuracy Score\": accuracy_score(y_test, preds),\n           \"Precision Score\": precision_score(y_test, preds),\n           \"Recall Score\": recall_score(y_test, preds),\n           \"f1 Score\": f1_score(y_test, preds)}",
      "execution_count": 59,
      "outputs": []
    },
    {
      "metadata": {
        "trusted": true,
        "_uuid": "9062ec0badadf35525e951f5e0a02aa23aa5ba77"
      },
      "cell_type": "code",
      "source": "d",
      "execution_count": 60,
      "outputs": [
        {
          "output_type": "execute_result",
          "execution_count": 60,
          "data": {
            "text/plain": "{0.125: {'Accuracy Score': 0.7346262329398336,\n  'Precision Score': 0.18432623157071112,\n  'Recall Score': 0.5002473385964842,\n  'f1 Score': 0.26939020375632405},\n 0.126: {'Accuracy Score': 0.7380741575181551,\n  'Precision Score': 0.18538708261894313,\n  'Recall Score': 0.49443588702055524,\n  'f1 Score': 0.2696644000877385},\n 0.127: {'Accuracy Score': 0.7414477428601883,\n  'Precision Score': 0.18641063651514175,\n  'Recall Score': 0.4885359565971035,\n  'f1 Score': 0.2698533470918783},\n 0.128: {'Accuracy Score': 0.7447410890265455,\n  'Precision Score': 0.18736245284934439,\n  'Recall Score': 0.4824349378838273,\n  'f1 Score': 0.26990309174896104},\n 0.129: {'Accuracy Score': 0.7480025755202074,\n  'Precision Score': 0.1884305612733917,\n  'Recall Score': 0.4767642481107755,\n  'f1 Score': 0.2701072034815498},\n 0.13: {'Accuracy Score': 0.7511673030079071,\n  'Precision Score': 0.18943252900764965,\n  'Recall Score': 0.4709769271296255,\n  'f1 Score': 0.2701910143208828},\n 0.131: {'Accuracy Score': 0.7542498246734679,\n  'Precision Score': 0.19041622634179745,\n  'Recall Score': 0.46523384557223696,\n  'f1 Score': 0.27022973697458286},\n 0.132: {'Accuracy Score': 0.7572304740522633,\n  'Precision Score': 0.19141311810311626,\n  'Recall Score': 0.4597280481968413,\n  'f1 Score': 0.27028848347849527},\n 0.133: {'Accuracy Score': 0.760144650780621,\n  'Precision Score': 0.19234668061421456,\n  'Recall Score': 0.4540573584237895,\n  'f1 Score': 0.2702224009344094},\n 0.134: {'Accuracy Score': 0.7630584341796862,\n  'Precision Score': 0.19328749664028022,\n  'Recall Score': 0.448290146271622,\n  'f1 Score': 0.27011190648127054},\n 0.135: {'Accuracy Score': 0.7660166637888074,\n  'Precision Score': 0.19436597836219316,\n  'Recall Score': 0.4427642400672439,\n  'f1 Score': 0.27014353491693277}}"
          },
          "metadata": {}
        }
      ]
    },
    {
      "metadata": {
        "trusted": true,
        "_uuid": "869d3539e59fe26a5404b29319b9040accf0fc2a"
      },
      "cell_type": "code",
      "source": "",
      "execution_count": null,
      "outputs": []
    }
  ],
  "metadata": {
    "kernelspec": {
      "display_name": "Python 3",
      "language": "python",
      "name": "python3"
    },
    "language_info": {
      "name": "python",
      "version": "3.6.6",
      "mimetype": "text/x-python",
      "codemirror_mode": {
        "name": "ipython",
        "version": 3
      },
      "pygments_lexer": "ipython3",
      "nbconvert_exporter": "python",
      "file_extension": ".py"
    }
  },
  "nbformat": 4,
  "nbformat_minor": 1
}