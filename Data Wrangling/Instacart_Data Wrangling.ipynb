{
 "cells": [
  {
   "cell_type": "code",
   "execution_count": 1,
   "metadata": {},
   "outputs": [],
   "source": [
    "#importing required libraries\n",
    "import pandas as pd\n",
    "import numpy as np\n",
    "import glob\n",
    "from scipy import stats"
   ]
  },
  {
   "cell_type": "code",
   "execution_count": 3,
   "metadata": {},
   "outputs": [
    {
     "data": {
      "text/plain": [
       "'C:\\\\Users\\\\Teja\\\\Desktop\\\\Python Programming'"
      ]
     },
     "execution_count": 3,
     "metadata": {},
     "output_type": "execute_result"
    }
   ],
   "source": [
    "import os\n",
    "os.getcwd()"
   ]
  },
  {
   "cell_type": "code",
   "execution_count": 4,
   "metadata": {},
   "outputs": [],
   "source": [
    "#Changing the current working directory\n",
    "os.chdir(r\"A:\\Data Science\\Springboard\\Capstone 1\\all\")"
   ]
  },
  {
   "cell_type": "code",
   "execution_count": 5,
   "metadata": {},
   "outputs": [
    {
     "name": "stdout",
     "output_type": "stream",
     "text": [
      "['aisles.csv', 'departments.csv', 'orders.csv', 'order_products__prior.csv', 'order_products__train.csv', 'products.csv', 'sample_submission.csv']\n"
     ]
    }
   ],
   "source": [
    "#Finding the list of files to upload\n",
    "pattern = '*.csv'\n",
    "csv_files = glob.glob(pattern)\n",
    "print(csv_files)"
   ]
  },
  {
   "cell_type": "code",
   "execution_count": 6,
   "metadata": {},
   "outputs": [],
   "source": [
    "#uploading required files\n",
    "aisles = pd.read_csv(\"aisles.csv\")\n",
    "departments = pd.read_csv(\"departments.csv\")\n",
    "orders = pd.read_csv(\"orders.csv\")\n",
    "orders_products_prior = pd.read_csv(\"order_products__prior.csv\")\n",
    "orders_products_train = pd.read_csv(\"order_products__train.csv\")\n",
    "products = pd.read_csv(\"products.csv\")"
   ]
  },
  {
   "cell_type": "code",
   "execution_count": 7,
   "metadata": {},
   "outputs": [],
   "source": [
    "# Assigining names to the datasets\n",
    "data_list = [aisles, departments, orders, \n",
    "             orders_products_prior, orders_products_train, products]\n",
    "data_list_name = ['aisles', 'departments', 'orders', \n",
    "'orders_products_prior', 'orders_products_train', 'products']\n",
    "\n",
    "j=0\n",
    "for i in data_list:\n",
    "    i.name = data_list_name[j]\n",
    "    j += 1"
   ]
  },
  {
   "cell_type": "code",
   "execution_count": 8,
   "metadata": {},
   "outputs": [],
   "source": [
    "#Checking for null values\n",
    "#Creating a function to find null values\n",
    "def null_columns(x):\n",
    "    y = x.columns[x.isnull().any()]\n",
    "    return y"
   ]
  },
  {
   "cell_type": "code",
   "execution_count": 9,
   "metadata": {},
   "outputs": [
    {
     "name": "stdout",
     "output_type": "stream",
     "text": [
      "Dataset aisles has no null values \n",
      "Dataset departments has no null values \n",
      "Dataset orders has null values in column ['days_since_prior_order']\n",
      "Dataset orders_products_prior has no null values \n",
      "Dataset orders_products_train has no null values \n",
      "Dataset products has no null values \n"
     ]
    }
   ],
   "source": [
    "for dataset in data_list:\n",
    "    if len(null_columns(dataset)) == 0:\n",
    "        print('Dataset ' + dataset.name + ' has no null values ')\n",
    "    else:\n",
    "        print('Dataset '+ dataset.name + ' has null values in column '+ str([i for i in null_columns(dataset)]))"
   ]
  },
  {
   "cell_type": "code",
   "execution_count": 10,
   "metadata": {},
   "outputs": [
    {
     "data": {
      "text/plain": [
       "206209"
      ]
     },
     "execution_count": 10,
     "metadata": {},
     "output_type": "execute_result"
    }
   ],
   "source": [
    "#Dataset orders has null values in column ['days_since_prior_order'] \n",
    "# Other Columns have no null values\n",
    "#Finding the number of null values in orders.days_since_prior_order\n",
    "sum(orders.days_since_prior_order.isnull())"
   ]
  },
  {
   "cell_type": "code",
   "execution_count": 11,
   "metadata": {},
   "outputs": [
    {
     "data": {
      "text/html": [
       "<div>\n",
       "<style scoped>\n",
       "    .dataframe tbody tr th:only-of-type {\n",
       "        vertical-align: middle;\n",
       "    }\n",
       "\n",
       "    .dataframe tbody tr th {\n",
       "        vertical-align: top;\n",
       "    }\n",
       "\n",
       "    .dataframe thead th {\n",
       "        text-align: right;\n",
       "    }\n",
       "</style>\n",
       "<table border=\"1\" class=\"dataframe\">\n",
       "  <thead>\n",
       "    <tr style=\"text-align: right;\">\n",
       "      <th></th>\n",
       "      <th>user_id</th>\n",
       "      <th>order_number</th>\n",
       "    </tr>\n",
       "  </thead>\n",
       "  <tbody>\n",
       "    <tr>\n",
       "      <th>0</th>\n",
       "      <td>1</td>\n",
       "      <td>1</td>\n",
       "    </tr>\n",
       "    <tr>\n",
       "      <th>11</th>\n",
       "      <td>2</td>\n",
       "      <td>1</td>\n",
       "    </tr>\n",
       "    <tr>\n",
       "      <th>26</th>\n",
       "      <td>3</td>\n",
       "      <td>1</td>\n",
       "    </tr>\n",
       "    <tr>\n",
       "      <th>39</th>\n",
       "      <td>4</td>\n",
       "      <td>1</td>\n",
       "    </tr>\n",
       "    <tr>\n",
       "      <th>45</th>\n",
       "      <td>5</td>\n",
       "      <td>1</td>\n",
       "    </tr>\n",
       "    <tr>\n",
       "      <th>50</th>\n",
       "      <td>6</td>\n",
       "      <td>1</td>\n",
       "    </tr>\n",
       "    <tr>\n",
       "      <th>54</th>\n",
       "      <td>7</td>\n",
       "      <td>1</td>\n",
       "    </tr>\n",
       "    <tr>\n",
       "      <th>75</th>\n",
       "      <td>8</td>\n",
       "      <td>1</td>\n",
       "    </tr>\n",
       "    <tr>\n",
       "      <th>79</th>\n",
       "      <td>9</td>\n",
       "      <td>1</td>\n",
       "    </tr>\n",
       "    <tr>\n",
       "      <th>83</th>\n",
       "      <td>10</td>\n",
       "      <td>1</td>\n",
       "    </tr>\n",
       "    <tr>\n",
       "      <th>89</th>\n",
       "      <td>11</td>\n",
       "      <td>1</td>\n",
       "    </tr>\n",
       "    <tr>\n",
       "      <th>97</th>\n",
       "      <td>12</td>\n",
       "      <td>1</td>\n",
       "    </tr>\n",
       "    <tr>\n",
       "      <th>103</th>\n",
       "      <td>13</td>\n",
       "      <td>1</td>\n",
       "    </tr>\n",
       "    <tr>\n",
       "      <th>116</th>\n",
       "      <td>14</td>\n",
       "      <td>1</td>\n",
       "    </tr>\n",
       "    <tr>\n",
       "      <th>130</th>\n",
       "      <td>15</td>\n",
       "      <td>1</td>\n",
       "    </tr>\n",
       "    <tr>\n",
       "      <th>153</th>\n",
       "      <td>16</td>\n",
       "      <td>1</td>\n",
       "    </tr>\n",
       "    <tr>\n",
       "      <th>160</th>\n",
       "      <td>17</td>\n",
       "      <td>1</td>\n",
       "    </tr>\n",
       "    <tr>\n",
       "      <th>201</th>\n",
       "      <td>18</td>\n",
       "      <td>1</td>\n",
       "    </tr>\n",
       "    <tr>\n",
       "      <th>208</th>\n",
       "      <td>19</td>\n",
       "      <td>1</td>\n",
       "    </tr>\n",
       "    <tr>\n",
       "      <th>218</th>\n",
       "      <td>20</td>\n",
       "      <td>1</td>\n",
       "    </tr>\n",
       "    <tr>\n",
       "      <th>223</th>\n",
       "      <td>21</td>\n",
       "      <td>1</td>\n",
       "    </tr>\n",
       "    <tr>\n",
       "      <th>257</th>\n",
       "      <td>22</td>\n",
       "      <td>1</td>\n",
       "    </tr>\n",
       "    <tr>\n",
       "      <th>273</th>\n",
       "      <td>23</td>\n",
       "      <td>1</td>\n",
       "    </tr>\n",
       "    <tr>\n",
       "      <th>278</th>\n",
       "      <td>24</td>\n",
       "      <td>1</td>\n",
       "    </tr>\n",
       "    <tr>\n",
       "      <th>297</th>\n",
       "      <td>25</td>\n",
       "      <td>1</td>\n",
       "    </tr>\n",
       "    <tr>\n",
       "      <th>301</th>\n",
       "      <td>26</td>\n",
       "      <td>1</td>\n",
       "    </tr>\n",
       "    <tr>\n",
       "      <th>314</th>\n",
       "      <td>27</td>\n",
       "      <td>1</td>\n",
       "    </tr>\n",
       "    <tr>\n",
       "      <th>396</th>\n",
       "      <td>28</td>\n",
       "      <td>1</td>\n",
       "    </tr>\n",
       "    <tr>\n",
       "      <th>421</th>\n",
       "      <td>29</td>\n",
       "      <td>1</td>\n",
       "    </tr>\n",
       "    <tr>\n",
       "      <th>440</th>\n",
       "      <td>30</td>\n",
       "      <td>1</td>\n",
       "    </tr>\n",
       "    <tr>\n",
       "      <th>...</th>\n",
       "      <td>...</td>\n",
       "      <td>...</td>\n",
       "    </tr>\n",
       "    <tr>\n",
       "      <th>3420548</th>\n",
       "      <td>206180</td>\n",
       "      <td>1</td>\n",
       "    </tr>\n",
       "    <tr>\n",
       "      <th>3420567</th>\n",
       "      <td>206181</td>\n",
       "      <td>1</td>\n",
       "    </tr>\n",
       "    <tr>\n",
       "      <th>3420582</th>\n",
       "      <td>206182</td>\n",
       "      <td>1</td>\n",
       "    </tr>\n",
       "    <tr>\n",
       "      <th>3420593</th>\n",
       "      <td>206183</td>\n",
       "      <td>1</td>\n",
       "    </tr>\n",
       "    <tr>\n",
       "      <th>3420608</th>\n",
       "      <td>206184</td>\n",
       "      <td>1</td>\n",
       "    </tr>\n",
       "    <tr>\n",
       "      <th>3420613</th>\n",
       "      <td>206185</td>\n",
       "      <td>1</td>\n",
       "    </tr>\n",
       "    <tr>\n",
       "      <th>3420624</th>\n",
       "      <td>206186</td>\n",
       "      <td>1</td>\n",
       "    </tr>\n",
       "    <tr>\n",
       "      <th>3420628</th>\n",
       "      <td>206187</td>\n",
       "      <td>1</td>\n",
       "    </tr>\n",
       "    <tr>\n",
       "      <th>3420663</th>\n",
       "      <td>206188</td>\n",
       "      <td>1</td>\n",
       "    </tr>\n",
       "    <tr>\n",
       "      <th>3420671</th>\n",
       "      <td>206189</td>\n",
       "      <td>1</td>\n",
       "    </tr>\n",
       "    <tr>\n",
       "      <th>3420678</th>\n",
       "      <td>206190</td>\n",
       "      <td>1</td>\n",
       "    </tr>\n",
       "    <tr>\n",
       "      <th>3420687</th>\n",
       "      <td>206191</td>\n",
       "      <td>1</td>\n",
       "    </tr>\n",
       "    <tr>\n",
       "      <th>3420693</th>\n",
       "      <td>206192</td>\n",
       "      <td>1</td>\n",
       "    </tr>\n",
       "    <tr>\n",
       "      <th>3420708</th>\n",
       "      <td>206193</td>\n",
       "      <td>1</td>\n",
       "    </tr>\n",
       "    <tr>\n",
       "      <th>3420750</th>\n",
       "      <td>206194</td>\n",
       "      <td>1</td>\n",
       "    </tr>\n",
       "    <tr>\n",
       "      <th>3420762</th>\n",
       "      <td>206195</td>\n",
       "      <td>1</td>\n",
       "    </tr>\n",
       "    <tr>\n",
       "      <th>3420782</th>\n",
       "      <td>206196</td>\n",
       "      <td>1</td>\n",
       "    </tr>\n",
       "    <tr>\n",
       "      <th>3420787</th>\n",
       "      <td>206197</td>\n",
       "      <td>1</td>\n",
       "    </tr>\n",
       "    <tr>\n",
       "      <th>3420811</th>\n",
       "      <td>206198</td>\n",
       "      <td>1</td>\n",
       "    </tr>\n",
       "    <tr>\n",
       "      <th>3420819</th>\n",
       "      <td>206199</td>\n",
       "      <td>1</td>\n",
       "    </tr>\n",
       "    <tr>\n",
       "      <th>3420839</th>\n",
       "      <td>206200</td>\n",
       "      <td>1</td>\n",
       "    </tr>\n",
       "    <tr>\n",
       "      <th>3420863</th>\n",
       "      <td>206201</td>\n",
       "      <td>1</td>\n",
       "    </tr>\n",
       "    <tr>\n",
       "      <th>3420896</th>\n",
       "      <td>206202</td>\n",
       "      <td>1</td>\n",
       "    </tr>\n",
       "    <tr>\n",
       "      <th>3420919</th>\n",
       "      <td>206203</td>\n",
       "      <td>1</td>\n",
       "    </tr>\n",
       "    <tr>\n",
       "      <th>3420925</th>\n",
       "      <td>206204</td>\n",
       "      <td>1</td>\n",
       "    </tr>\n",
       "    <tr>\n",
       "      <th>3420930</th>\n",
       "      <td>206205</td>\n",
       "      <td>1</td>\n",
       "    </tr>\n",
       "    <tr>\n",
       "      <th>3420934</th>\n",
       "      <td>206206</td>\n",
       "      <td>1</td>\n",
       "    </tr>\n",
       "    <tr>\n",
       "      <th>3421002</th>\n",
       "      <td>206207</td>\n",
       "      <td>1</td>\n",
       "    </tr>\n",
       "    <tr>\n",
       "      <th>3421019</th>\n",
       "      <td>206208</td>\n",
       "      <td>1</td>\n",
       "    </tr>\n",
       "    <tr>\n",
       "      <th>3421069</th>\n",
       "      <td>206209</td>\n",
       "      <td>1</td>\n",
       "    </tr>\n",
       "  </tbody>\n",
       "</table>\n",
       "<p>206209 rows × 2 columns</p>\n",
       "</div>"
      ],
      "text/plain": [
       "         user_id  order_number\n",
       "0              1             1\n",
       "11             2             1\n",
       "26             3             1\n",
       "39             4             1\n",
       "45             5             1\n",
       "50             6             1\n",
       "54             7             1\n",
       "75             8             1\n",
       "79             9             1\n",
       "83            10             1\n",
       "89            11             1\n",
       "97            12             1\n",
       "103           13             1\n",
       "116           14             1\n",
       "130           15             1\n",
       "153           16             1\n",
       "160           17             1\n",
       "201           18             1\n",
       "208           19             1\n",
       "218           20             1\n",
       "223           21             1\n",
       "257           22             1\n",
       "273           23             1\n",
       "278           24             1\n",
       "297           25             1\n",
       "301           26             1\n",
       "314           27             1\n",
       "396           28             1\n",
       "421           29             1\n",
       "440           30             1\n",
       "...          ...           ...\n",
       "3420548   206180             1\n",
       "3420567   206181             1\n",
       "3420582   206182             1\n",
       "3420593   206183             1\n",
       "3420608   206184             1\n",
       "3420613   206185             1\n",
       "3420624   206186             1\n",
       "3420628   206187             1\n",
       "3420663   206188             1\n",
       "3420671   206189             1\n",
       "3420678   206190             1\n",
       "3420687   206191             1\n",
       "3420693   206192             1\n",
       "3420708   206193             1\n",
       "3420750   206194             1\n",
       "3420762   206195             1\n",
       "3420782   206196             1\n",
       "3420787   206197             1\n",
       "3420811   206198             1\n",
       "3420819   206199             1\n",
       "3420839   206200             1\n",
       "3420863   206201             1\n",
       "3420896   206202             1\n",
       "3420919   206203             1\n",
       "3420925   206204             1\n",
       "3420930   206205             1\n",
       "3420934   206206             1\n",
       "3421002   206207             1\n",
       "3421019   206208             1\n",
       "3421069   206209             1\n",
       "\n",
       "[206209 rows x 2 columns]"
      ]
     },
     "execution_count": 11,
     "metadata": {},
     "output_type": "execute_result"
    }
   ],
   "source": [
    "#There are 206209 null values\n",
    "#Lets examine the null values\n",
    "orders.loc[orders.days_since_prior_order.isnull()==True,['user_id', 'order_number']]"
   ]
  },
  {
   "cell_type": "code",
   "execution_count": 12,
   "metadata": {},
   "outputs": [],
   "source": [
    "#days_since_prior_order attribue for first order for all the users is null so it can be changed to 0\n",
    "orders.days_since_prior_order = orders.days_since_prior_order.fillna(int(0))"
   ]
  },
  {
   "cell_type": "code",
   "execution_count": 13,
   "metadata": {},
   "outputs": [
    {
     "data": {
      "text/plain": [
       "order_id                    int64\n",
       "user_id                     int64\n",
       "eval_set                   object\n",
       "order_number                int64\n",
       "order_dow                   int64\n",
       "order_hour_of_day           int64\n",
       "days_since_prior_order    float64\n",
       "dtype: object"
      ]
     },
     "execution_count": 13,
     "metadata": {},
     "output_type": "execute_result"
    }
   ],
   "source": [
    "#Datatypes\n",
    "orders.dtypes"
   ]
  },
  {
   "cell_type": "code",
   "execution_count": 14,
   "metadata": {},
   "outputs": [],
   "source": [
    "# \"order_id\", \"user_id\" should be of data type object\n",
    "to_object= [\"order_id\", \"user_id\"]\n",
    "orders[to_object]= orders[to_object].astype('object')"
   ]
  },
  {
   "cell_type": "code",
   "execution_count": 15,
   "metadata": {},
   "outputs": [
    {
     "data": {
      "text/plain": [
       "aisle_id     int64\n",
       "aisle       object\n",
       "dtype: object"
      ]
     },
     "execution_count": 15,
     "metadata": {},
     "output_type": "execute_result"
    }
   ],
   "source": [
    "aisles.dtypes"
   ]
  },
  {
   "cell_type": "code",
   "execution_count": 16,
   "metadata": {},
   "outputs": [],
   "source": [
    "#aisle_id should be object\n",
    "aisles.aisle_id = aisles.aisle_id.astype('object')"
   ]
  },
  {
   "cell_type": "code",
   "execution_count": 17,
   "metadata": {},
   "outputs": [
    {
     "data": {
      "text/plain": [
       "department_id     int64\n",
       "department       object\n",
       "dtype: object"
      ]
     },
     "execution_count": 17,
     "metadata": {},
     "output_type": "execute_result"
    }
   ],
   "source": [
    "departments.dtypes"
   ]
  },
  {
   "cell_type": "code",
   "execution_count": 18,
   "metadata": {},
   "outputs": [],
   "source": [
    "#department_id should be object\n",
    "departments.department_id = departments.department_id.astype('object')"
   ]
  },
  {
   "cell_type": "code",
   "execution_count": 19,
   "metadata": {},
   "outputs": [
    {
     "data": {
      "text/plain": [
       "order_id             int64\n",
       "product_id           int64\n",
       "add_to_cart_order    int64\n",
       "reordered            int64\n",
       "dtype: object"
      ]
     },
     "execution_count": 19,
     "metadata": {},
     "output_type": "execute_result"
    }
   ],
   "source": [
    "orders_products_prior.dtypes"
   ]
  },
  {
   "cell_type": "code",
   "execution_count": 20,
   "metadata": {},
   "outputs": [],
   "source": [
    "#order_id and product_id should be of type object\n",
    "orders_products_prior[['order_id', 'product_id']] = orders_products_prior[['order_id', 'product_id']].astype('object')"
   ]
  },
  {
   "cell_type": "code",
   "execution_count": 21,
   "metadata": {},
   "outputs": [],
   "source": [
    "orders_products_train.dtypes\n",
    "orders_products_train[['order_id', 'product_id']] = orders_products_train[['order_id', 'product_id']].astype('object')"
   ]
  },
  {
   "cell_type": "code",
   "execution_count": 23,
   "metadata": {},
   "outputs": [
    {
     "name": "stdout",
     "output_type": "stream",
     "text": [
      "Series([], Name: order_number, dtype: int64)\n",
      "Series([], Name: order_dow, dtype: int64)\n",
      "Series([], Name: order_hour_of_day, dtype: int64)\n",
      "Series([], Name: days_since_prior_order, dtype: float64)\n"
     ]
    }
   ],
   "source": [
    "#Finding Outliers\n",
    "#Datasets aisles and departments are just categorical data, so there is no chance of outliers\n",
    "#Checking for outliers in orders\n",
    "for column in orders:\n",
    "    if orders[column].dtype != 'object':\n",
    "        percentile_range = np.percentile(orders[column], [2.5, 97.5])\n",
    "        outliers=orders[column][(orders[column]<percentile_range[0])&(orders[column]>percentile_range[1])]\n",
    "        print(outliers)"
   ]
  },
  {
   "cell_type": "code",
   "execution_count": 25,
   "metadata": {},
   "outputs": [
    {
     "name": "stdout",
     "output_type": "stream",
     "text": [
      "Series([], Name: add_to_cart_order, dtype: int64)\n",
      "Series([], Name: reordered, dtype: int64)\n"
     ]
    }
   ],
   "source": [
    "#Checking for outliers in orders_products_prior\n",
    "for column in orders_products_prior:\n",
    "    if orders_products_prior[column].dtype != 'object':\n",
    "        percentile_range = np.percentile(orders_products_prior[column], [2.5, 97.5])\n",
    "        outliers=orders_products_prior[column][(orders_products_prior[column]<percentile_range[0])&(orders_products_prior[column]>percentile_range[1])]\n",
    "        print(outliers)"
   ]
  },
  {
   "cell_type": "code",
   "execution_count": 27,
   "metadata": {},
   "outputs": [
    {
     "name": "stdout",
     "output_type": "stream",
     "text": [
      "Series([], Name: add_to_cart_order, dtype: int64)\n",
      "Series([], Name: reordered, dtype: int64)\n"
     ]
    }
   ],
   "source": [
    "#Checking for outliers in orders_products_train\n",
    "for column in orders_products_train:\n",
    "    if orders_products_train[column].dtype != 'object':\n",
    "        percentile_range = np.percentile(orders_products_train[column], [2.5, 97.5])\n",
    "        outliers=orders_products_train[column][(orders_products_train[column]<percentile_range[0])&(orders_products_train[column]>percentile_range[1])]\n",
    "        print(outliers)\n",
    "#there are no outliers in all the datasets"
   ]
  },
  {
   "cell_type": "code",
   "execution_count": null,
   "metadata": {},
   "outputs": [],
   "source": []
  }
 ],
 "metadata": {
  "kernelspec": {
   "display_name": "Python 3",
   "language": "python",
   "name": "python3"
  },
  "language_info": {
   "codemirror_mode": {
    "name": "ipython",
    "version": 3
   },
   "file_extension": ".py",
   "mimetype": "text/x-python",
   "name": "python",
   "nbconvert_exporter": "python",
   "pygments_lexer": "ipython3",
   "version": "3.6.5"
  }
 },
 "nbformat": 4,
 "nbformat_minor": 2
}
